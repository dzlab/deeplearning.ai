{
 "cells": [
  {
   "cell_type": "markdown",
   "id": "0fa8e492-02ba-4f04-aa53-2aaf34300d67",
   "metadata": {},
   "source": [
    "# L5: MCTS and AgentQ"
   ]
  },
  {
   "cell_type": "markdown",
   "id": "729b314c-ddd7-409a-8df1-fbb6dcc12d99",
   "metadata": {},
   "source": [
    "<p style=\"background-color:#fff6e4; padding:15px; border-width:3px; border-color:#f5ecda; border-style:solid; border-radius:6px\"> ⏳ <b>Note <code>(Kernel Starting)</code>:</b> This notebook takes about 30 seconds to be ready to use. You may start and watch the video while you wait.</p>"
   ]
  },
  {
   "cell_type": "code",
   "execution_count": null,
   "id": "ca01fc5a-2140-4a9e-9d6e-4ab476451c41",
   "metadata": {},
   "outputs": [],
   "source": [
    "import os\n",
    "import numpy as np\n",
    "import seaborn as sns\n",
    "from matplotlib import animation\n",
    "import matplotlib.pyplot as plt\n",
    "import matplotlib.colors as colors\n",
    "from IPython.display import HTML\n",
    "from gridworld import MCTSGridWrapper, dfs"
   ]
  },
  {
   "cell_type": "markdown",
   "id": "dbb5c257-8f2f-401b-9833-83a8eac2b7dd",
   "metadata": {},
   "source": [
    "<div style=\"background-color:#fff6ff; padding:13px; border-width:3px; border-color:#efe6ef; border-style:solid; border-radius:6px\">\n",
    "<p> 💻 &nbsp; <b>Access <code>requirements.txt</code> and <code>helper.py</code> files:</b> 1) click on the <em>\"File\"</em> option on the top menu of the notebook and then 2) click on <em>\"Open\"</em>.\n",
    "\n",
    "<p> ⬇ &nbsp; <b>Download Notebooks:</b> 1) click on the <em>\"File\"</em> option on the top menu of the notebook and then 2) click on <em>\"Download as\"</em> and select <em>\"Notebook (.ipynb)\"</em>.</p>\n",
    "\n",
    "<p> 📒 &nbsp; For more help, please see the <em>\"Appendix – Tips, Help, and Download\"</em> Lesson.</p>\n",
    "</div>"
   ]
  },
  {
   "cell_type": "markdown",
   "id": "c01d9130-6cad-4e38-a2e0-05254c6cbe68",
   "metadata": {},
   "source": [
    "## MCTS Example (Gridworld)"
   ]
  },
  {
   "cell_type": "code",
   "execution_count": null,
   "id": "469eba88-c01b-4bbd-8cfe-d94ea2adf0f7",
   "metadata": {},
   "outputs": [],
   "source": [
    "# 0: Possible paths  1: Obstacles  2: Starting position  3: End Position\n",
    "grid = [\n",
    "    [0, 1, 0, 0, 0, 0, 0, 0],\n",
    "    [0, 1, 0, 1, 0, 0, 0, 0],\n",
    "    [0, 0, 0, 0, 1, 0, 0, 0],\n",
    "    [0, 1, 1, 0, 0, 0, 0, 0],\n",
    "    [0, 0, 3, 1, 1, 0, 0, 0],\n",
    "    [0, 0, 0, 0, 0, 1, 0, 0],\n",
    "    [0, 0, 1, 1, 1, 0, 0, 2],\n",
    "]\n",
    "\n",
    "arr = np.array(grid)\n",
    "cmap = colors.ListedColormap([\"white\", \"black\", \"green\", \"red\"])\n",
    "boundaries = [-0.5, 0.5, 1.5, 2.5, 3.5]\n",
    "norm = colors.BoundaryNorm(boundaries, cmap.N)\n",
    "plt.imshow(arr, cmap=cmap, norm=norm, interpolation='nearest')\n",
    "plt.colorbar(ticks=[0, 1, 2, 3])\n",
    "plt.title(\"Grid Visualization\")\n",
    "\n",
    "rows, cols = arr.shape\n",
    "for i in range(rows):\n",
    "    for j in range(cols):\n",
    "        if arr[i, j] == 1:\n",
    "            plt.text(j, i, 'W', ha='center', va='center', color='white')\n",
    "            \n",
    "plt.show()"
   ]
  },
  {
   "cell_type": "code",
   "execution_count": null,
   "id": "4a4e5c82-b0c6-4976-933d-1d10dc967dc2",
   "metadata": {},
   "outputs": [],
   "source": [
    "iter_step = 100 \n",
    "n_iter = 1000    # Total number of MCTS iterations\n",
    "explore_low = 1.0  # Minimum exploration weight\n",
    "explore_high = 3.0  # Maximum exploration weight\n",
    "explore_n = 5     # Number of different exploration weights to test\n",
    "explore_step = (explore_high - explore_low) / explore_n\n",
    "\n",
    "all_results = []\n",
    "exploration_weights = list(np.arange(explore_low, explore_high, explore_step))\n",
    "\n",
    "for weight in exploration_weights:\n",
    "    mcts = MCTSGridWrapper(grid, n_iterations=n_iter, exploration_weight=weight, save_interval=iter_step)\n",
    "    results = mcts()\n",
    "    all_results.append(results)"
   ]
  },
  {
   "cell_type": "code",
   "execution_count": null,
   "id": "dd91085d-fe42-4c18-84e4-abb9f078f5c7",
   "metadata": {},
   "outputs": [],
   "source": [
    "from mcts_animation import compare_exploration_weights\n",
    "\n",
    "animation = compare_exploration_weights(all_results,\n",
    "                                        grid,\n",
    "                                        exploration_weights,\n",
    "                                        animate=True)\n",
    "display(animation)"
   ]
  },
  {
   "cell_type": "code",
   "execution_count": null,
   "id": "4b70610d-1d53-415d-bc62-748d97f21ad7",
   "metadata": {},
   "outputs": [],
   "source": [
    "import os\n",
    "from helper import get_openai_api_key\n",
    "\n",
    "os.environ[\"OPENAI_API_KEY\"] = get_openai_api_key()\n",
    "os.environ[\"OPENAI_MODEL\"] = \"gpt-4o-mini\""
   ]
  },
  {
   "cell_type": "code",
   "execution_count": null,
   "id": "1b440978-c4fb-4849-ac7e-49733229e67d",
   "metadata": {},
   "outputs": [],
   "source": [
    "%cd agent-q-clone\n",
    "!python agentq/config/config.py"
   ]
  },
  {
   "cell_type": "code",
   "execution_count": null,
   "id": "6b723186-2053-469e-b191-d76ee0e549ea",
   "metadata": {},
   "outputs": [],
   "source": [
    "from agentq.core.mcts.browser_mcts import main\n",
    "result = await main(objective = \"Find a course on RAG in deeplearning.ai \",\n",
    "                    eval_mode = True)"
   ]
  },
  {
   "cell_type": "code",
   "execution_count": null,
   "id": "8e851d42-1437-4ae0-a8c7-c8d0ba1fb312",
   "metadata": {},
   "outputs": [],
   "source": [
    "%cd ..\n",
    "\n",
    "from plotTree import plot_tree, dfs_browser_nodes\n",
    "\n",
    "urls = {}\n",
    "messages = {}\n",
    "actions = {}\n",
    "weights = {}\n",
    "critic_responses = {}\n",
    "AL = {}\n",
    "EL = []\n",
    "Q = {}\n",
    "objectives = {}\n",
    "rewards = {}\n",
    "is_terminals = {}\n",
    "completed_tasks = {}\n",
    "\n",
    "dfs_browser_nodes(result.tree_state, urls, messages, actions, weights, critic_responses, AL, EL, Q, objectives, rewards, is_terminals, completed_tasks)"
   ]
  },
  {
   "cell_type": "code",
   "execution_count": null,
   "id": "b2b886bc-b4cb-45da-832c-3d161b2596b0",
   "metadata": {},
   "outputs": [],
   "source": [
    "cur_mx = 0\n",
    "for i in EL:\n",
    "    cur_mx = max(cur_mx, i[0])\n",
    "    cur_mx = max(cur_mx, i[1])\n",
    "    \n",
    "# Plot the enhanced tree\n",
    "fig = plot_tree(cur_mx+1, urls, messages,\n",
    "                actions, weights, critic_responses, Q, EL)\n",
    "fig.show()"
   ]
  },
  {
   "cell_type": "code",
   "execution_count": null,
   "id": "7cd628bd-a6a6-498b-bd43-c756b46cbb9d",
   "metadata": {},
   "outputs": [],
   "source": []
  },
  {
   "cell_type": "code",
   "execution_count": null,
   "id": "9edcd87f-6f6e-41ea-a099-194d735f7345",
   "metadata": {},
   "outputs": [],
   "source": []
  },
  {
   "cell_type": "code",
   "execution_count": null,
   "id": "ffbe7873-de3a-4096-bded-7f1b9db6a4cd",
   "metadata": {},
   "outputs": [],
   "source": []
  },
  {
   "cell_type": "code",
   "execution_count": null,
   "id": "eb7b9d52-0f9f-45ad-b18d-d251b9140943",
   "metadata": {},
   "outputs": [],
   "source": []
  },
  {
   "cell_type": "code",
   "execution_count": null,
   "id": "935720dd-e891-4eb1-93c5-fc27b1036aa7",
   "metadata": {},
   "outputs": [],
   "source": []
  }
 ],
 "metadata": {
  "kernelspec": {
   "display_name": "Python 3 (ipykernel)",
   "language": "python",
   "name": "python3"
  },
  "language_info": {
   "codemirror_mode": {
    "name": "ipython",
    "version": 3
   },
   "file_extension": ".py",
   "mimetype": "text/x-python",
   "name": "python",
   "nbconvert_exporter": "python",
   "pygments_lexer": "ipython3",
   "version": "3.10.14"
  }
 },
 "nbformat": 4,
 "nbformat_minor": 5
}
