{
 "cells": [
  {
   "cell_type": "markdown",
   "id": "0fa8e492-02ba-4f04-aa53-2aaf34300d67",
   "metadata": {},
   "source": [
    "# L3: Building an Autonomous Web Agents"
   ]
  },
  {
   "cell_type": "markdown",
   "id": "0469a39f-af5e-439b-8acd-37ca1e9c033d",
   "metadata": {},
   "source": [
    "<p style=\"background-color:#fff6e4; padding:15px; border-width:3px; border-color:#f5ecda; border-style:solid; border-radius:6px\"> ⏳ <b>Note <code>(Kernel Starting)</code>:</b> This notebook takes about 30 seconds to be ready to use. You may start and watch the video while you wait.</p>"
   ]
  },
  {
   "cell_type": "markdown",
   "id": "14284d2a-64b9-4330-a7f4-4c41d8a537e5",
   "metadata": {},
   "source": [
    "## MultiOn Web Agent"
   ]
  },
  {
   "cell_type": "code",
   "execution_count": null,
   "id": "a7f70669-8fdb-4ca1-83cc-e37843c274be",
   "metadata": {
    "height": 170
   },
   "outputs": [],
   "source": [
    "import os\n",
    "from multion.client import MultiOn\n",
    "\n",
    "from utils import (get_multi_on_api_key,\n",
    "                    visualizeSession,\n",
    "                    MultiOnDemo,\n",
    "                    SessionManager,\n",
    "                    ImageUtils,\n",
    "                    display_step_header)"
   ]
  },
  {
   "cell_type": "markdown",
   "id": "8f927026-f0d5-42df-aeb0-a75349fdf109",
   "metadata": {},
   "source": [
    "<div style=\"background-color:#fff6ff; padding:13px; border-width:3px; border-color:#efe6ef; border-style:solid; border-radius:6px\">\n",
    "<p> 💻 &nbsp; <b>Access <code>requirements.txt</code> and <code>helper.py</code> files:</b> 1) click on the <em>\"File\"</em> option on the top menu of the notebook and then 2) click on <em>\"Open\"</em>.\n",
    "\n",
    "<p> ⬇ &nbsp; <b>Download Notebooks:</b> 1) click on the <em>\"File\"</em> option on the top menu of the notebook and then 2) click on <em>\"Download as\"</em> and select <em>\"Notebook (.ipynb)\"</em>.</p>\n",
    "\n",
    "<p> 📒 &nbsp; For more help, please see the <em>\"Appendix – Tips, Help, and Download\"</em> Lesson.</p>\n",
    "</div>"
   ]
  },
  {
   "cell_type": "code",
   "execution_count": null,
   "id": "469eba88-c01b-4bbd-8cfe-d94ea2adf0f7",
   "metadata": {
    "height": 47
   },
   "outputs": [],
   "source": [
    "multion_api_key = get_multi_on_api_key()\n",
    "multion = MultiOn(api_key=multion_api_key, base_url=os.getenv(\"DLAI_MULTION_BASE_URL\"))"
   ]
  },
  {
   "cell_type": "markdown",
   "id": "9ac31121-23c8-4368-be58-b1cfdc54d7e1",
   "metadata": {},
   "source": [
    "## Multion Client"
   ]
  },
  {
   "cell_type": "code",
   "execution_count": null,
   "id": "dd91085d-fe42-4c18-84e4-abb9f078f5c7",
   "metadata": {
    "height": 1254
   },
   "outputs": [],
   "source": [
    "class MultiOnClient:\n",
    "    \"\"\"A simplified client for the MultiOn API\"\"\"\n",
    "    \n",
    "    def __init__(self, multion):\n",
    "        \"\"\"Initialize the MultiOn client with the API key\"\"\"\n",
    "        # Use the actual MultiOn class from the imported module\n",
    "        self.client = multion\n",
    "        self.session_id = None\n",
    "        self.current_url = None\n",
    "        self.screenshot = None\n",
    "    \n",
    "    def create_session(self, url):\n",
    "        \"\"\"Create a new agent session\"\"\"\n",
    "        session = self.client.sessions.create(url=url,\n",
    "                                              include_screenshot=True)\n",
    "        self.session_id = session.session_id\n",
    "        self.current_url = session.url\n",
    "        self.screenshot = session.screenshot\n",
    "        return session\n",
    "    \n",
    "    def close_session(self):\n",
    "        \"\"\"Close the current session\"\"\"\n",
    "        if self.session_id:\n",
    "            self.client.sessions.close(self.session_id)\n",
    "            self.session_id = None\n",
    "    \n",
    "    def list_sessions(self):\n",
    "        \"\"\"List all active sessions\"\"\"\n",
    "        return self.client.sessions.list()\n",
    "    \n",
    "    def close_all_sessions(self):\n",
    "        \"\"\"Close all open sessions\"\"\"\n",
    "        sessions = self.list_sessions()\n",
    "        for session in sessions.session_ids:\n",
    "            self.client.sessions.close(session)\n",
    "    \n",
    "    def navigate_to_url(self, url):\n",
    "        \"\"\"Navigate to a URL in the current session\"\"\"\n",
    "        if not self.session_id:\n",
    "            return self.create_session(url)\n",
    "        \n",
    "        response = self.client.sessions.step(\n",
    "            session_id=self.session_id,\n",
    "            cmd=f\"GO TO URL {url}\",\n",
    "            include_screenshot=True,\n",
    "            mode=\"standard\"\n",
    "        )\n",
    "        \n",
    "        self.current_url = response.url\n",
    "        self.screenshot = response.screenshot\n",
    "        return response\n",
    "\n",
    "    def execute_task(self, task):\n",
    "        \"\"\"Execute a task in the current agent session\"\"\"\n",
    "        if not self.session_id:\n",
    "            raise ValueError(\"No active session. Call create_session first.\")\n",
    "            \n",
    "        response = self.client.sessions.step(\n",
    "            session_id=self.session_id,\n",
    "            cmd=(\n",
    "                f\"\"\"IMPORTANT: DO NOT ASK THE USER ANY QUESTIONS. \n",
    "                All the necessary information is already provided \n",
    "                and is on the current Page.\\n\n",
    "                Complete the task to the best of your abilities.\\n\\n\n",
    "                Task:\\n\\n{task}\"\"\"\n",
    "            ),\n",
    "            include_screenshot=True,\n",
    "        )\n",
    "        \n",
    "        self.current_url = response.url\n",
    "        self.screenshot = response.screenshot\n",
    "        \n",
    "        return response"
   ]
  },
  {
   "cell_type": "code",
   "execution_count": null,
   "id": "59d36d21-811a-495a-8616-f6ecb64d51ea",
   "metadata": {
    "height": 30
   },
   "outputs": [],
   "source": [
    "multionClient = MultiOnClient(multion)"
   ]
  },
  {
   "cell_type": "markdown",
   "id": "04dd1ce0-bc0d-4aab-a8e1-d451670ae252",
   "metadata": {},
   "source": [
    "## Example 1"
   ]
  },
  {
   "cell_type": "code",
   "execution_count": null,
   "id": "8e851d42-1437-4ae0-a8c7-c8d0ba1fb312",
   "metadata": {
    "height": 81
   },
   "outputs": [],
   "source": [
    "instruction = \"get list all the courses\"\n",
    "url = \"https://deeplearning.ai/courses\"\n",
    "MAX_STEPS = 10\n",
    "MAX_IMAGE_WIDTH = 500"
   ]
  },
  {
   "cell_type": "code",
   "execution_count": null,
   "id": "b2b886bc-b4cb-45da-832c-3d161b2596b0",
   "metadata": {
    "height": 30
   },
   "outputs": [],
   "source": [
    "session = multionClient.create_session(url)"
   ]
  },
  {
   "cell_type": "code",
   "execution_count": null,
   "id": "080d1f85-d72d-4c84-8b92-47f18ffb71f6",
   "metadata": {
    "height": 115
   },
   "outputs": [],
   "source": [
    "step = 0\n",
    "while session.status == \"CONTINUE\" and step < MAX_STEPS:\n",
    "    display_step_header(step)\n",
    "    visualizeSession(session, max_image_width=MAX_IMAGE_WIDTH)\n",
    "    session = multionClient.execute_task(instruction)\n",
    "    step += 1"
   ]
  },
  {
   "cell_type": "code",
   "execution_count": null,
   "id": "e3d685f9-bffe-4b0e-a1e7-96f8e76faa39",
   "metadata": {
    "height": 47
   },
   "outputs": [],
   "source": [
    "visualizeSession(session, max_image_width=MAX_IMAGE_WIDTH)\n"
   ]
  },
  {
   "cell_type": "markdown",
   "id": "95feb6d8-93b7-464a-bcfd-3d43e8610a40",
   "metadata": {},
   "source": [
    "## MultiOn Browser UI"
   ]
  },
  {
   "cell_type": "code",
   "execution_count": null,
   "id": "80f933ca-80ac-4b2c-94c6-568d73889c8b",
   "metadata": {
    "height": 268
   },
   "outputs": [],
   "source": [
    "sessionManager = SessionManager(url, multionClient)\n",
    "subject = \"RAG\"\n",
    "name = \"Div Garg\"\n",
    "email = \"info@theagi.company\"\n",
    "action_engine = None\n",
    "instructions = [f\"Find the course on {subject} and open it\",\n",
    "                f\"Summarize the course\",\n",
    "                f\"Detailed course lessons\",\n",
    "                f\"\"\"Go to the deeplearning ai home page and subscribe \n",
    "                to the batch newsletter use the name {name}, \n",
    "                {email} choose the other required fields\n",
    "                as you see fit. Make sure to select the proper dropdown\n",
    "                values. Finally once you see \n",
    "                the subscribe button click it\"\"\"\n",
    "               ]"
   ]
  },
  {
   "cell_type": "code",
   "execution_count": null,
   "id": "bf8ba349-bc91-472c-b039-a6a8035b53c1",
   "metadata": {
    "height": 98
   },
   "outputs": [],
   "source": [
    "demo = MultiOnDemo(url, \n",
    "                   sessionManager, \n",
    "                   multionClient, \n",
    "                   instructions, \n",
    "                   action_engine)"
   ]
  },
  {
   "cell_type": "code",
   "execution_count": null,
   "id": "41b08be3-7249-4152-8a29-e91a2364dffb",
   "metadata": {
    "height": 30
   },
   "outputs": [],
   "source": [
    "demo.create_demo()"
   ]
  },
  {
   "cell_type": "code",
   "execution_count": null,
   "id": "b3e83de0-597a-4abd-9da0-77be409f8c68",
   "metadata": {
    "height": 30
   },
   "outputs": [],
   "source": []
  },
  {
   "cell_type": "code",
   "execution_count": null,
   "id": "1d85c9f7-7b8b-40e7-abc5-3a7c30253d24",
   "metadata": {
    "height": 30
   },
   "outputs": [],
   "source": []
  },
  {
   "cell_type": "code",
   "execution_count": null,
   "id": "7cd628bd-a6a6-498b-bd43-c756b46cbb9d",
   "metadata": {
    "height": 30
   },
   "outputs": [],
   "source": []
  },
  {
   "cell_type": "code",
   "execution_count": null,
   "id": "9edcd87f-6f6e-41ea-a099-194d735f7345",
   "metadata": {
    "height": 30
   },
   "outputs": [],
   "source": []
  },
  {
   "cell_type": "code",
   "execution_count": null,
   "id": "ffbe7873-de3a-4096-bded-7f1b9db6a4cd",
   "metadata": {
    "height": 30
   },
   "outputs": [],
   "source": []
  }
 ],
 "metadata": {
  "kernelspec": {
   "display_name": "Python 3 (ipykernel)",
   "language": "python",
   "name": "python3"
  },
  "language_info": {
   "codemirror_mode": {
    "name": "ipython",
    "version": 3
   },
   "file_extension": ".py",
   "mimetype": "text/x-python",
   "name": "python",
   "nbconvert_exporter": "python",
   "pygments_lexer": "ipython3",
   "version": "3.11.9"
  }
 },
 "nbformat": 4,
 "nbformat_minor": 5
}
