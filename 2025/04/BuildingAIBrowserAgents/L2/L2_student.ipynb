{
 "cells": [
  {
   "cell_type": "markdown",
   "id": "0fa8e492-02ba-4f04-aa53-2aaf34300d67",
   "metadata": {},
   "source": [
    "# L2: Building a Simple Web Agent"
   ]
  },
  {
   "cell_type": "markdown",
   "id": "1cc83466-8acc-4a92-a26d-d7443c80d503",
   "metadata": {},
   "source": [
    "<p style=\"background-color:#fff6e4; padding:15px; border-width:3px; border-color:#f5ecda; border-style:solid; border-radius:6px\"> ⏳ <b>Note <code>(Kernel Starting)</code>:</b> This notebook takes about 30 seconds to be ready to use. You may start and watch the video while you wait.</p>"
   ]
  },
  {
   "cell_type": "code",
   "execution_count": null,
   "id": "ca01fc5a-2140-4a9e-9d6e-4ab476451c41",
   "metadata": {
    "height": 268
   },
   "outputs": [],
   "source": [
    "import asyncio\n",
    "import json\n",
    "import os\n",
    "import nest_asyncio\n",
    "import pprint\n",
    "import base64\n",
    "from io import BytesIO\n",
    "import pandas as pd\n",
    "from playwright.async_api import async_playwright\n",
    "from openai import OpenAI\n",
    "from PIL import Image\n",
    "from tabulate import tabulate\n",
    "from IPython.display import display, HTML, Markdown\n",
    "from pydantic import BaseModel\n",
    "from helper import get_openai_api_key, visualizeCourses"
   ]
  },
  {
   "cell_type": "markdown",
   "id": "eebc23af-22e8-4382-989a-61ebf6eb0a78",
   "metadata": {},
   "source": [
    "<div style=\"background-color:#fff6ff; padding:13px; border-width:3px; border-color:#efe6ef; border-style:solid; border-radius:6px\">\n",
    "<p> 💻 &nbsp; <b>Access <code>requirements.txt</code> and <code>helper.py</code> files:</b> 1) click on the <em>\"File\"</em> option on the top menu of the notebook and then 2) click on <em>\"Open\"</em>.\n",
    "\n",
    "<p> ⬇ &nbsp; <b>Download Notebooks:</b> 1) click on the <em>\"File\"</em> option on the top menu of the notebook and then 2) click on <em>\"Download as\"</em> and select <em>\"Notebook (.ipynb)\"</em>.</p>\n",
    "\n",
    "<p> 📒 &nbsp; For more help, please see the <em>\"Appendix – Tips, Help, and Download\"</em> Lesson.</p>\n",
    "</div>"
   ]
  },
  {
   "cell_type": "code",
   "execution_count": null,
   "id": "a7f70669-8fdb-4ca1-83cc-e37843c274be",
   "metadata": {
    "height": 47
   },
   "outputs": [],
   "source": [
    "client = OpenAI(api_key=get_openai_api_key())\n",
    "nest_asyncio.apply()"
   ]
  },
  {
   "cell_type": "markdown",
   "id": "4df7d77e-eb6f-4ca3-bdb1-482201c637e5",
   "metadata": {},
   "source": [
    "## WebScraper Agent"
   ]
  },
  {
   "cell_type": "code",
   "execution_count": null,
   "id": "4a4e5c82-b0c6-4976-933d-1d10dc967dc2",
   "metadata": {
    "height": 540
   },
   "outputs": [],
   "source": [
    "class WebScraperAgent:\n",
    "    def __init__(self):\n",
    "        self.playwright = None\n",
    "        self.browser = None\n",
    "        self.page = None\n",
    "\n",
    "    async def init_browser(self):\n",
    "      self.playwright = await async_playwright().start()\n",
    "      self.browser = await self.playwright.chromium.launch(\n",
    "          headless=True,\n",
    "          args=[\n",
    "              \"--disable-dev-shm-usage\",\n",
    "              \"--no-sandbox\",\n",
    "              \"--disable-setuid-sandbox\",\n",
    "              \"--disable-accelerated-2d-canvas\",\n",
    "              \"--disable-gpu\",\n",
    "              \"--no-zygote\",\n",
    "              \"--disable-audio-output\",\n",
    "              \"--disable-software-rasterizer\",\n",
    "              \"--disable-webgl\",\n",
    "              \"--disable-web-security\",\n",
    "              \"--disable-features=LazyFrameLoading\",\n",
    "              \"--disable-features=IsolateOrigins\",\n",
    "              \"--disable-background-networking\"\n",
    "          ]\n",
    "      )\n",
    "      self.page = await self.browser.new_page()\n",
    "\n",
    "    async def scrape_content(self, url):\n",
    "        if not self.page or self.page.is_closed():\n",
    "            await self.init_browser()\n",
    "        await self.page.goto(url, wait_until=\"load\")\n",
    "        await self.page.wait_for_timeout(2000)  # Wait for dynamic content\n",
    "        return await self.page.content()\n",
    "\n",
    "    async def take_screenshot(self, path=\"screenshot.png\"):\n",
    "        await self.page.screenshot(path=path, full_page=True)\n",
    "        return path\n",
    "    async def screenshot_buffer(self):\n",
    "        screenshot_bytes = await self.page.screenshot(type=\"png\", full_page=False)\n",
    "        return screenshot_bytes\n",
    "\n",
    "    async def close(self):\n",
    "        await self.browser.close()\n",
    "        await self.playwright.stop()\n",
    "        self.playwright = None\n",
    "        self.browser = None\n",
    "        self.page = None"
   ]
  },
  {
   "cell_type": "code",
   "execution_count": null,
   "id": "dd91085d-fe42-4c18-84e4-abb9f078f5c7",
   "metadata": {
    "height": 30
   },
   "outputs": [],
   "source": [
    "scraper = WebScraperAgent()"
   ]
  },
  {
   "cell_type": "markdown",
   "id": "8b0a5e5b-9275-4671-9043-b67213ec68e2",
   "metadata": {},
   "source": [
    "## Structured Data Format"
   ]
  },
  {
   "cell_type": "code",
   "execution_count": null,
   "id": "129881ea-22a9-4f98-a6b6-67f1431bad41",
   "metadata": {
    "height": 166
   },
   "outputs": [],
   "source": [
    "class DeeplearningCourse(BaseModel):\n",
    "    title: str\n",
    "    description: str\n",
    "    presenter: list[str]\n",
    "    imageUrl: str\n",
    "    courseURL: str\n",
    "\n",
    "class DeeplearningCourseList(BaseModel):\n",
    "    courses: list[DeeplearningCourse]"
   ]
  },
  {
   "cell_type": "markdown",
   "id": "417f82f0-5fdc-469b-9b3a-29f5b3abf2be",
   "metadata": {},
   "source": [
    "## LLM Client for Open AI"
   ]
  },
  {
   "cell_type": "code",
   "execution_count": null,
   "id": "60eb54fb-948d-4ae2-bc35-a95a711413bf",
   "metadata": {
    "height": 421
   },
   "outputs": [],
   "source": [
    "async def process_with_llm(html, instructions, truncate = False):\n",
    "    completion = client.beta.chat.completions.parse(\n",
    "        model=\"gpt-4o-mini-2024-07-18\",\n",
    "        messages=[{\n",
    "            \"role\": \"system\",\n",
    "            \"content\": f\"\"\"\n",
    "            You are an expert web scraping agent. Your task is to:\n",
    "            Extract relevant information from this HTML to JSON \n",
    "            following these instructions:\n",
    "            {instructions}\n",
    "            \n",
    "            Extract the title, description, presenter, \n",
    "            the image URL and course URL for each of \n",
    "            all the courses for the deeplearning.ai website\n",
    "\n",
    "            Return ONLY valid JSON, no markdown or extra text.\"\"\"\n",
    "        }, {\n",
    "            \"role\": \"user\",\n",
    "            \"content\": html[:150000]  # Truncate to stay under token limits\n",
    "        }],\n",
    "        temperature=0.1,\n",
    "        response_format=DeeplearningCourseList,\n",
    "        )\n",
    "    return completion.choices[0].message.parsed"
   ]
  },
  {
   "cell_type": "code",
   "execution_count": null,
   "id": "8e851d42-1437-4ae0-a8c7-c8d0ba1fb312",
   "metadata": {
    "height": 336
   },
   "outputs": [],
   "source": [
    "async def webscraper(target_url, instructions):\n",
    "    result = None\n",
    "    try:\n",
    "        # Scrape content and capture screenshot\n",
    "        print(\"Extracting HTML Content \\n\")\n",
    "        html_content = await scraper.scrape_content(target_url)\n",
    "\n",
    "        print(\"Taking Screenshot \\n\")\n",
    "        screenshot = await scraper.screenshot_buffer()\n",
    "        # Process content\n",
    "\n",
    "        print(\"Processing..\")\n",
    "        result: DeeplearningCourseList = await process_with_llm(html_content, instructions, False)\n",
    "        print(\"\\nGenerated Structured Response\")\n",
    "    except Exception as e:\n",
    "        print(f\"❌ Error: {str(e)}\")\n",
    "    finally:\n",
    "        await scraper.close()\n",
    "    return result, screenshot"
   ]
  },
  {
   "cell_type": "markdown",
   "id": "4bb770a7-4262-4d16-b1f5-bdf6d809bcde",
   "metadata": {},
   "source": [
    "## Example 1"
   ]
  },
  {
   "cell_type": "code",
   "execution_count": null,
   "id": "080d1f85-d72d-4c84-8b92-47f18ffb71f6",
   "metadata": {
    "height": 47
   },
   "outputs": [],
   "source": [
    "target_url = \"https://www.deeplearning.ai/courses\"  # Deeplearning AI courses\n",
    "base_url=\"https://deeplearning.ai\""
   ]
  },
  {
   "cell_type": "code",
   "execution_count": null,
   "id": "915186ff-5591-4e4f-b717-b4ec9f792820",
   "metadata": {
    "height": 81
   },
   "outputs": [],
   "source": [
    "instructions = \"\"\"\n",
    "    Get all the courses\n",
    "\"\"\"\n",
    "result, screenshot = await webscraper(target_url, instructions)"
   ]
  },
  {
   "cell_type": "code",
   "execution_count": null,
   "id": "80f933ca-80ac-4b2c-94c6-568d73889c8b",
   "metadata": {
    "height": 98
   },
   "outputs": [],
   "source": [
    "await visualizeCourses(result=result, \n",
    "                       screenshot=screenshot, \n",
    "                       target_url=target_url, \n",
    "                       instructions=instructions, \n",
    "                       base_url=base_url)"
   ]
  },
  {
   "cell_type": "markdown",
   "id": "7f03c76c-cea6-41a2-b935-de2982d33910",
   "metadata": {},
   "source": [
    "## Example with RAG courses"
   ]
  },
  {
   "cell_type": "code",
   "execution_count": null,
   "id": "41b08be3-7249-4152-8a29-e91a2364dffb",
   "metadata": {
    "height": 166
   },
   "outputs": [],
   "source": [
    "subject = \"Retrieval Augmented Generation (RAG) \"\n",
    "\n",
    "instructions = f\"\"\"\n",
    "Read the description of the courses and only \n",
    "provide the three courses that are about {subject}. \n",
    "Make sure that we don't have any other\n",
    "cources in the output\n",
    "\"\"\"\n",
    "result, screenshot = await webscraper(target_url, instructions)"
   ]
  },
  {
   "cell_type": "code",
   "execution_count": null,
   "id": "67efd225-7b8b-4464-890e-734e64028cc9",
   "metadata": {
    "height": 98
   },
   "outputs": [],
   "source": [
    "await visualizeCourses(result=result, \n",
    "                       screenshot=screenshot, \n",
    "                       target_url=target_url, \n",
    "                       instructions=instructions, \n",
    "                       base_url=base_url)"
   ]
  },
  {
   "cell_type": "markdown",
   "id": "81298336-833d-4745-977b-eb2b36fe85e4",
   "metadata": {},
   "source": [
    "## Challenges in the web agents"
   ]
  },
  {
   "cell_type": "code",
   "execution_count": null,
   "id": "5699b17a-105b-4c9f-b8b0-64eaa55862ca",
   "metadata": {
    "height": 115
   },
   "outputs": [],
   "source": [
    "subject = \"Retrieval Augmented Generation (RAG) \"\n",
    "instructions = f\"\"\"\n",
    "Can you get the summary of the top course on\n",
    "{subject} provide the learnings from it\n",
    "\"\"\"\n",
    "result, screenshot = await webscraper(target_url, instructions)"
   ]
  },
  {
   "cell_type": "code",
   "execution_count": null,
   "id": "9c5cb314-7323-404e-99ca-a3184fd496b4",
   "metadata": {
    "height": 98
   },
   "outputs": [],
   "source": [
    "await visualizeCourses(result=result,\n",
    "                       screenshot=screenshot,\n",
    "                       target_url=target_url,\n",
    "                       instructions=instructions,\n",
    "                       base_url=base_url)"
   ]
  },
  {
   "cell_type": "code",
   "execution_count": null,
   "id": "c21de71e-7a13-4ef1-bf14-4331d6722f8a",
   "metadata": {
    "height": 30
   },
   "outputs": [],
   "source": []
  },
  {
   "cell_type": "code",
   "execution_count": null,
   "id": "50ec00a0-b443-4112-bd6e-e02939f45316",
   "metadata": {
    "height": 30
   },
   "outputs": [],
   "source": []
  },
  {
   "cell_type": "code",
   "execution_count": null,
   "id": "a8bac057-7d88-43bf-81df-932da7cd6fb1",
   "metadata": {
    "height": 30
   },
   "outputs": [],
   "source": []
  },
  {
   "cell_type": "code",
   "execution_count": null,
   "id": "539f3c70-d481-4519-a997-0001842ac82a",
   "metadata": {
    "height": 30
   },
   "outputs": [],
   "source": []
  },
  {
   "cell_type": "code",
   "execution_count": null,
   "id": "18f1a1c9-c20a-4f5a-be4d-26a9b73052a5",
   "metadata": {
    "height": 30
   },
   "outputs": [],
   "source": []
  }
 ],
 "metadata": {
  "kernelspec": {
   "display_name": "Python 3 (ipykernel)",
   "language": "python",
   "name": "python3"
  },
  "language_info": {
   "codemirror_mode": {
    "name": "ipython",
    "version": 3
   },
   "file_extension": ".py",
   "mimetype": "text/x-python",
   "name": "python",
   "nbconvert_exporter": "python",
   "pygments_lexer": "ipython3",
   "version": "3.11.9"
  }
 },
 "nbformat": 4,
 "nbformat_minor": 5
}
