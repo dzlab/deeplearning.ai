{
 "cells": [
  {
   "cell_type": "markdown",
   "id": "dbbde038-6d5b-4ff4-9185-af12babac7a6",
   "metadata": {},
   "source": [
    "# L3: Retry-based Structured Output"
   ]
  },
  {
   "cell_type": "markdown",
   "id": "4972e2d8-8472-4483-a837-84d88a232c6b",
   "metadata": {},
   "source": [
    "<p style=\"background-color:#fff6e4; padding:15px; border-width:3px; border-color:#f5ecda; border-style:solid; border-radius:6px\"> ⏳ <b>Note <code>(Kernel Starting)</code>:</b> This notebook takes about 30 seconds to be ready to use. You may start and watch the video while you wait.</p>"
   ]
  },
  {
   "cell_type": "code",
   "execution_count": null,
   "id": "2d566401-2121-411b-90d2-218323e92610",
   "metadata": {},
   "outputs": [],
   "source": [
    "import os\n",
    "from utils import get_together_api_key"
   ]
  },
  {
   "cell_type": "code",
   "execution_count": null,
   "id": "7120be41-71d6-43df-8fbf-08e86330e36d",
   "metadata": {},
   "outputs": [],
   "source": [
    "import instructor\n",
    "from openai import OpenAI\n",
    "\n",
    "# Instantiate the client\n",
    "together_client = OpenAI(\n",
    "    base_url=f\"{os.getenv('DLAI_TOGETHER_API_BASE', 'https://api.together.xyz')}/v1\",\n",
    "    api_key=get_together_api_key()\n",
    ")"
   ]
  },
  {
   "cell_type": "markdown",
   "id": "9c5ef119-7e95-4da8-9244-9abbd1e74446",
   "metadata": {},
   "source": [
    "<div style=\"background-color:#fff6ff; padding:13px; border-width:3px; border-color:#efe6ef; border-style:solid; border-radius:6px\">\n",
    "<p> 💻 &nbsp; <b>Access <code>requirements.txt</code> and <code>helper.py</code> files:</b> 1) click on the <em>\"File\"</em> option on the top menu of the notebook and then 2) click on <em>\"Open\"</em>.\n",
    "\n",
    "<p> ⬇ &nbsp; <b>Download Notebooks:</b> 1) click on the <em>\"File\"</em> option on the top menu of the notebook and then 2) click on <em>\"Download as\"</em> and select <em>\"Notebook (.ipynb)\"</em>.</p>\n",
    "\n",
    "<p> 📒 &nbsp; For more help, please see the <em>\"Appendix – Tips, Help, and Download\"</em> Lesson.</p>\n",
    "</div>"
   ]
  },
  {
   "cell_type": "code",
   "execution_count": null,
   "id": "a45bfb66-28f0-46d2-bae6-0acb2084fafa",
   "metadata": {},
   "outputs": [],
   "source": [
    "response = together_client.chat.completions.create(\n",
    "    model='meta-llama/Meta-Llama-3.1-8B-Instruct-Turbo',\n",
    "    messages = [{\n",
    "        \"role\": \"user\", \n",
    "        \"content\": 'sup'\n",
    "    }]\n",
    ")\n",
    "\n",
    "response.choices[0].message.content"
   ]
  },
  {
   "cell_type": "markdown",
   "id": "7c0d0aa3-3609-481e-8b76-a2ad041eea13",
   "metadata": {},
   "source": [
    "## Adding Instructor"
   ]
  },
  {
   "cell_type": "code",
   "execution_count": null,
   "id": "1a9b4939-14b1-44f8-8841-499be2b03e9f",
   "metadata": {},
   "outputs": [],
   "source": [
    "# Wrap together with the instructor client\n",
    "instructor_client = instructor.from_openai(together_client)"
   ]
  },
  {
   "cell_type": "code",
   "execution_count": null,
   "id": "7928beb3-e23b-4d67-86c6-b19021ac014a",
   "metadata": {},
   "outputs": [],
   "source": [
    "from pydantic import BaseModel\n",
    "\n",
    "class Greeting(BaseModel):\n",
    "    hello: str"
   ]
  },
  {
   "cell_type": "code",
   "execution_count": null,
   "id": "5f072633-1a6b-482e-a37f-b04f33042500",
   "metadata": {},
   "outputs": [],
   "source": [
    "response = instructor_client.chat.completions.create(\n",
    "    model='meta-llama/Meta-Llama-3.1-8B-Instruct-Turbo',\n",
    "    messages = [{\n",
    "        \"role\": \"user\", \n",
    "        \"content\": 'sup'\n",
    "    }], \n",
    "    # Note: OpenAI uses response_format, instructor\n",
    "    #       uses response_model!\n",
    "    response_model=Greeting\n",
    ")\n",
    "\n",
    "response"
   ]
  },
  {
   "cell_type": "markdown",
   "id": "d8e3bbf1-41af-4133-80b4-6529c4e14276",
   "metadata": {},
   "source": [
    "## Defining a calendar event"
   ]
  },
  {
   "cell_type": "code",
   "execution_count": null,
   "id": "a83c48f7-f18d-4b23-af1d-78d5105664ca",
   "metadata": {},
   "outputs": [],
   "source": [
    "from pydantic import Field\n",
    "from datetime import date\n",
    "from typing import List\n",
    "\n",
    "# Person only has a name, but we can easily extend it with other fields\n",
    "class Person(BaseModel):\n",
    "    name: str\n",
    "\n",
    "class CalendarEvent(BaseModel):\n",
    "    name: str\n",
    "    \n",
    "    # not supported by OpenAI. We want a format like 2025-01-30\n",
    "    date: date \n",
    "    participants: List[Person]\n",
    "\n",
    "    address_number: str\n",
    "    street_name: str\n",
    "    city_name: str\n",
    "\n",
    "    # Inline regex patterns not supported by OpenAI restrict state code \n",
    "    # to be two capital letters (OpenAI does not support pattern fields)\n",
    "    state_code: str = Field(pattern=r'[A-Z]{2}')\n",
    "\n",
    "    # Zip code must be five digits\n",
    "    zip_code: str = Field(pattern=r'\\d{5}') \n"
   ]
  },
  {
   "cell_type": "code",
   "execution_count": null,
   "id": "c82d7ab5-40ad-44c0-a880-d094e4ee88a2",
   "metadata": {},
   "outputs": [],
   "source": [
    "event_description = \"\"\"\n",
    "Alice and Bob are going to a science fair on Friday, January 2024.\n",
    "The science fair is hosted at the gymnasium of Hazeldale Elementary\n",
    "School at 20080 SW Farmington Road in Beaverton Oregon.\n",
    "\"\"\""
   ]
  },
  {
   "cell_type": "code",
   "execution_count": null,
   "id": "5a0b14b3-c6f5-41db-ad65-1cfd99cd036e",
   "metadata": {},
   "outputs": [],
   "source": [
    "def generate(\n",
    "    response_model, \n",
    "    user_prompt, \n",
    "    system_prompt=\"You are a helpful assistant.\",\n",
    "    model=\"meta-llama/Meta-Llama-3.1-8B-Instruct-Turbo\",\n",
    "    # Can use 70b for a higher-quality model\n",
    "    # model=\"meta-llama/Meta-Llama-3.1-70B-Instruct-Turbo\",\n",
    "    max_retries=3,\n",
    "):\n",
    "    event = instructor_client.chat.completions.create(\n",
    "        model=model,\n",
    "        messages=[\n",
    "            {\"role\": \"system\", \"content\": system_prompt},\n",
    "            {\"role\": \"user\", \"content\": user_prompt\n",
    "            },\n",
    "        ],\n",
    "        response_model=response_model,\n",
    "        max_retries=max_retries\n",
    "    )\n",
    "\n",
    "    return event"
   ]
  },
  {
   "cell_type": "code",
   "execution_count": null,
   "id": "5cd4db9b-8cee-4680-b43b-b977e3582254",
   "metadata": {},
   "outputs": [],
   "source": [
    "system_prompt = \"\"\"\n",
    "Make a calendar event. Respond in JSON with\n",
    "the event name, date, list of participants,\n",
    "and the address.\n",
    "\"\"\"\n",
    "\n",
    "user_prompt = 'Event description: ' + event_description\n",
    "\n",
    "event = generate(\n",
    "    CalendarEvent, \n",
    "    user_prompt, \n",
    "    system_prompt=system_prompt\n",
    ")"
   ]
  },
  {
   "cell_type": "code",
   "execution_count": null,
   "id": "5da60abf-3a3d-4293-bbe9-b33ee2689190",
   "metadata": {},
   "outputs": [],
   "source": [
    "event"
   ]
  },
  {
   "cell_type": "markdown",
   "id": "444903d1-fb8d-47a7-8359-7f3c8e139e57",
   "metadata": {},
   "source": [
    "## Retries"
   ]
  },
  {
   "cell_type": "code",
   "execution_count": null,
   "id": "7d6392fe-bab0-4425-becf-39f653c42a9c",
   "metadata": {},
   "outputs": [],
   "source": [
    "from utils import UsageTracker\n",
    "\n",
    "# Clear any completion response hooks -- prevents \n",
    "# duplicate writes to the usage tracker.\n",
    "instructor_client.clear(\"completion:response\")\n",
    "\n",
    "# Create a new tracker\n",
    "tracker = UsageTracker()\n",
    "\n",
    "# Define a custom instructor hook and update the\n",
    "# tracker when a new completion runs.\n",
    "def log_completion_kwargs(*args, **kwargs):\n",
    "    usage = args[0].usage\n",
    "    tracker.track(usage)\n",
    "\n",
    "# Assign the hook to instructor -- this will make the hook\n",
    "# run each time the server returns a chat completion to us.\n",
    "instructor_client.on(\"completion:response\", log_completion_kwargs)"
   ]
  },
  {
   "cell_type": "code",
   "execution_count": null,
   "id": "0ed27e8e-80fe-47d7-b8ad-95d2bf6101a1",
   "metadata": {},
   "outputs": [],
   "source": [
    "# Clear the tracker before we run the completion\n",
    "# so we arent' tracking multiple jobs.\n",
    "tracker.clear()\n",
    "\n",
    "event = generate(\n",
    "    CalendarEvent, \n",
    "    user_prompt, \n",
    "    system_prompt=system_prompt,\n",
    "    max_retries=4,\n",
    ")\n",
    "\n",
    "event"
   ]
  },
  {
   "cell_type": "code",
   "execution_count": null,
   "id": "56b5f9e8-3846-4756-bbd1-b5ee49aa003f",
   "metadata": {},
   "outputs": [],
   "source": [
    "print(\"Input tokens:  \", tracker.input_tokens)\n",
    "print(\"Output tokens: \", tracker.output_tokens)\n",
    "print(\"Total tokens:  \", sum(tracker.total_tokens))\n",
    "print(\"Num retries:   \", len(tracker.output_tokens))"
   ]
  },
  {
   "cell_type": "markdown",
   "id": "f23d9bb1-b3fc-4dd3-983b-fe2365c3d8c0",
   "metadata": {},
   "source": [
    "## When retry methods fail"
   ]
  },
  {
   "cell_type": "code",
   "execution_count": null,
   "id": "3904a31d-1b4e-4077-abc0-bb9a9f871ca2",
   "metadata": {},
   "outputs": [],
   "source": [
    "from typing import Literal\n",
    "\n",
    "class Complicated(BaseModel):\n",
    "    # a must be cat, dog, or hat\n",
    "    a: Literal[\"cat\", \"dog\", \"hat\"]\n",
    "    b: int\n",
    "    c: bool\n"
   ]
  },
  {
   "cell_type": "code",
   "execution_count": null,
   "id": "9c4448fc-2b43-4c96-99bb-f67dcc18a3ff",
   "metadata": {},
   "outputs": [],
   "source": [
    "# Clear the tracker before we run the completion\n",
    "# so we arent' tracking multiple jobs.\n",
    "tracker.clear()\n",
    "\n",
    "try:\n",
    "    event = generate(\n",
    "        Complicated, \n",
    "        \"Write me a short essay on Dolly Parton.\", \n",
    "        system_prompt=\"Don't give me what I want.\",\n",
    "        max_retries=3,\n",
    "    )\n",
    "\n",
    "    # Show the event\n",
    "    print(event)\n",
    "except instructor.exceptions.InstructorRetryException as e : \n",
    "    print(\"We failed to parse!\")\n",
    "except e:\n",
    "    raise e"
   ]
  },
  {
   "cell_type": "code",
   "execution_count": null,
   "id": "283bb6bd-6c12-4611-8ac2-c0da4d4e44b1",
   "metadata": {},
   "outputs": [],
   "source": [
    "print(\"Input tokens:  \", tracker.input_tokens)\n",
    "print(\"Output tokens: \", tracker.output_tokens)\n",
    "print(\"Total tokens:  \", sum(tracker.total_tokens))\n",
    "print(\"Num retries:   \", len(tracker.output_tokens))"
   ]
  },
  {
   "cell_type": "markdown",
   "id": "fcaebf5f-f045-4e1c-b821-29c38c6665bc",
   "metadata": {},
   "source": [
    "## You try!"
   ]
  },
  {
   "cell_type": "code",
   "execution_count": null,
   "id": "aa2e7120-014a-4b18-993f-8f2dfb9e64f6",
   "metadata": {},
   "outputs": [],
   "source": [
    "# Clear the tracker before we run the completion\n",
    "# so we arent' tracking multiple jobs.\n",
    "tracker.clear()\n",
    "\n",
    "try:\n",
    "    event = generate(\n",
    "        Complicated, \n",
    "        \"Give me a, b, and c.\", \n",
    "        system_prompt=\"Give me what I want.\",\n",
    "        max_retries=3,\n",
    "    )\n",
    "    print(event)\n",
    "except instructor.exceptions.InstructorRetryException as e : \n",
    "    print(\"We failed to parse!\")\n",
    "except e:\n",
    "    raise e"
   ]
  },
  {
   "cell_type": "code",
   "execution_count": null,
   "id": "a42e49ff-6ef0-4e53-985a-f9598f1e67b4",
   "metadata": {},
   "outputs": [],
   "source": [
    "print(\"Input tokens:  \", tracker.input_tokens)\n",
    "print(\"Output tokens: \", tracker.output_tokens)\n",
    "print(\"Total tokens:  \", sum(tracker.total_tokens))\n",
    "print(\"Num retries:   \", len(tracker.output_tokens))"
   ]
  },
  {
   "cell_type": "code",
   "execution_count": null,
   "id": "a922c875-76a8-482b-b1ae-0e75c7a3162f",
   "metadata": {},
   "outputs": [],
   "source": []
  },
  {
   "cell_type": "code",
   "execution_count": null,
   "id": "a83e11c3-f1a7-42ea-9371-b6c770bf9a92",
   "metadata": {},
   "outputs": [],
   "source": []
  },
  {
   "cell_type": "code",
   "execution_count": null,
   "id": "15889b6f-fb87-4dd2-8336-6fb61d2e9ff3",
   "metadata": {},
   "outputs": [],
   "source": []
  },
  {
   "cell_type": "code",
   "execution_count": null,
   "id": "57090341-5eeb-4c42-bb46-a29082769cf7",
   "metadata": {},
   "outputs": [],
   "source": []
  },
  {
   "cell_type": "code",
   "execution_count": null,
   "id": "42a7d544-ed31-4943-8347-21fcf617a620",
   "metadata": {},
   "outputs": [],
   "source": []
  },
  {
   "cell_type": "code",
   "execution_count": null,
   "id": "e6440db9-c4aa-40e8-8df3-7323cd55227d",
   "metadata": {},
   "outputs": [],
   "source": []
  }
 ],
 "metadata": {
  "kernelspec": {
   "display_name": "Python 3 (ipykernel)",
   "language": "python",
   "name": "python3"
  },
  "language_info": {
   "codemirror_mode": {
    "name": "ipython",
    "version": 3
   },
   "file_extension": ".py",
   "mimetype": "text/x-python",
   "name": "python",
   "nbconvert_exporter": "python",
   "pygments_lexer": "ipython3",
   "version": "3.10.14"
  }
 },
 "nbformat": 4,
 "nbformat_minor": 5
}
