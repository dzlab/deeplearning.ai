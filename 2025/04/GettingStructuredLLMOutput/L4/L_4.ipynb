{
 "cells": [
  {
   "cell_type": "markdown",
   "id": "8c8972f0-5c14-4e39-b3bc-dff229ae0481",
   "metadata": {},
   "source": [
    "# L4: Structured Generation with Outlines"
   ]
  },
  {
   "cell_type": "markdown",
   "id": "e5f17de8-6cc4-4693-a2aa-b6a80a705ef8",
   "metadata": {},
   "source": [
    "<p style=\"background-color:#fff6e4; padding:15px; border-width:3px; border-color:#f5ecda; border-style:solid; border-radius:6px\"> ⏳ <b>Note <code>(Kernel Starting)</code>:</b> This notebook takes about 30 seconds to be ready to use. You may start and watch the video while you wait.</p>"
   ]
  },
  {
   "cell_type": "code",
   "execution_count": null,
   "id": "18bf804f-3dc5-44bd-b01f-8f4f7e1b1e4f",
   "metadata": {},
   "outputs": [],
   "source": [
    "import warnings\n",
    "warnings.filterwarnings('ignore')"
   ]
  },
  {
   "cell_type": "code",
   "execution_count": null,
   "id": "b4979c87-5e69-446e-9c6d-4c619bde988a",
   "metadata": {},
   "outputs": [],
   "source": [
    "import outlines\n",
    "\n",
    "# Downloads the model from HuggingFace if you don't already have it, \n",
    "# then loads it into memory\n",
    "model = outlines.models.transformers(\n",
    "    \"HuggingFaceTB/SmolLM2-135M-Instruct\"\n",
    ")"
   ]
  },
  {
   "cell_type": "markdown",
   "id": "1e14c289-40ea-43b1-815e-7447b74dd48c",
   "metadata": {},
   "source": [
    "<div style=\"background-color:#fff6ff; padding:13px; border-width:3px; border-color:#efe6ef; border-style:solid; border-radius:6px\">\n",
    "<p> 💻 &nbsp; <b>Access <code>requirements.txt</code> and <code>helper.py</code> files:</b> 1) click on the <em>\"File\"</em> option on the top menu of the notebook and then 2) click on <em>\"Open\"</em>.\n",
    "\n",
    "<p> ⬇ &nbsp; <b>Download Notebooks:</b> 1) click on the <em>\"File\"</em> option on the top menu of the notebook and then 2) click on <em>\"Download as\"</em> and select <em>\"Notebook (.ipynb)\"</em>.</p>\n",
    "\n",
    "<p> 📒 &nbsp; For more help, please see the <em>\"Appendix – Tips, Help, and Download\"</em> Lesson.</p>\n",
    "</div>"
   ]
  },
  {
   "cell_type": "code",
   "execution_count": null,
   "id": "1fd261f9-0d5b-431e-8329-956f99597c8b",
   "metadata": {},
   "outputs": [],
   "source": [
    "from pydantic import BaseModel\n",
    "\n",
    "class Person(BaseModel):\n",
    "    name: str\n",
    "    age: int"
   ]
  },
  {
   "cell_type": "code",
   "execution_count": null,
   "id": "a2d49a1d-9ea4-4fb4-b869-d5b95f5088e2",
   "metadata": {},
   "outputs": [],
   "source": [
    "from utils import track_logits\n",
    "\n",
    "generator = outlines.generate.json(\n",
    "    model, \n",
    "    Person,\n",
    "    sampler = outlines.samplers.greedy()\n",
    ")\n",
    "\n",
    "# Add tools to track token probabilities as they are generated\n",
    "track_logits(generator)"
   ]
  },
  {
   "cell_type": "markdown",
   "id": "0153bd64-de40-4670-8b17-0a55278b1fbf",
   "metadata": {},
   "source": [
    "## Chat templating"
   ]
  },
  {
   "cell_type": "code",
   "execution_count": null,
   "id": "e4684f9d-3f51-4e06-9ce0-f2e3581de209",
   "metadata": {},
   "outputs": [],
   "source": [
    "from utils import template\n",
    "\n",
    "print(template(\n",
    "    model, \n",
    "    \"Give me a person with a name and an age.\",\n",
    "    system_prompt=\"You create users.\"\n",
    "))"
   ]
  },
  {
   "cell_type": "code",
   "execution_count": null,
   "id": "9665d52a-8301-4094-acb3-96901feb3f0d",
   "metadata": {},
   "outputs": [],
   "source": [
    "# Remove any previously tracked logits\n",
    "generator.logits_processor.clear()\n",
    "\n",
    "person = generator(\n",
    "    template(\n",
    "        model, \n",
    "        \"Give me a person with a name and an age.\",\n",
    "        system_prompt=\"You create users.\"\n",
    "    ),\n",
    ")\n",
    "\n",
    "person"
   ]
  },
  {
   "cell_type": "markdown",
   "id": "eee15e27-5072-4679-ac40-af53e6b3890b",
   "metadata": {},
   "source": [
    "## The basic structure"
   ]
  },
  {
   "cell_type": "code",
   "execution_count": null,
   "id": "6c5f4dda-66a6-42c0-a6d5-6ed10bc39ece",
   "metadata": {},
   "outputs": [],
   "source": [
    "print(person.model_dump_json(indent=2))"
   ]
  },
  {
   "cell_type": "code",
   "execution_count": null,
   "id": "ffbe48da-8a5b-425b-985d-3f5a8f715cb0",
   "metadata": {},
   "outputs": [],
   "source": [
    "from utils import plot_token_distributions\n",
    "\n",
    "plot_token_distributions(generator.logits_processor, positions=[0], k=5)"
   ]
  },
  {
   "cell_type": "markdown",
   "id": "c64b28b8-a162-484d-b88f-d16eb0bf2270",
   "metadata": {},
   "source": [
    "## You try!"
   ]
  },
  {
   "cell_type": "code",
   "execution_count": null,
   "id": "b67fce1d-6748-4c4d-93cc-d28be8bbc785",
   "metadata": {},
   "outputs": [],
   "source": [
    "from utils import plot_token_distributions\n",
    "\n",
    "plot_token_distributions(generator.logits_processor, positions=[0], k=10)"
   ]
  },
  {
   "cell_type": "markdown",
   "id": "a41d7c99-b38b-4855-a790-9379f4a69be0",
   "metadata": {},
   "source": [
    "## What's in a name?"
   ]
  },
  {
   "cell_type": "code",
   "execution_count": null,
   "id": "154a5f13-92fa-48f7-a91f-39a20c215e4e",
   "metadata": {},
   "outputs": [],
   "source": [
    "plot_token_distributions(generator.logits_processor, positions=[3], k=5)"
   ]
  },
  {
   "cell_type": "code",
   "execution_count": null,
   "id": "2c72ddae-e504-4173-a194-21ef9fce63a3",
   "metadata": {},
   "outputs": [],
   "source": [
    "print(generator.logits_processor.sequence(5))"
   ]
  },
  {
   "cell_type": "code",
   "execution_count": null,
   "id": "fdff6e51-6e21-43e3-8a68-b59da480cd7d",
   "metadata": {},
   "outputs": [],
   "source": [
    "plot_token_distributions(generator.logits_processor, positions=[4], k=5)"
   ]
  },
  {
   "cell_type": "code",
   "execution_count": null,
   "id": "5fc7a72d-6d21-471b-bae1-cfa35040f3d3",
   "metadata": {},
   "outputs": [],
   "source": [
    "print(generator.logits_processor.sequence(7))"
   ]
  },
  {
   "cell_type": "code",
   "execution_count": null,
   "id": "20dc3eee-9ea1-49b6-9cea-05de37b9229c",
   "metadata": {},
   "outputs": [],
   "source": [
    "plot_token_distributions(generator.logits_processor, positions=[6], k=5)"
   ]
  },
  {
   "cell_type": "code",
   "execution_count": null,
   "id": "ac4ab490-d992-4cd5-b619-e213c8c44118",
   "metadata": {},
   "outputs": [],
   "source": [
    "plot_token_distributions(generator.logits_processor, positions=[7], k=5)"
   ]
  },
  {
   "cell_type": "code",
   "execution_count": null,
   "id": "5355c917-e1c1-46b5-8cba-25c423f50501",
   "metadata": {},
   "outputs": [],
   "source": [
    "plot_token_distributions(generator.logits_processor, positions=[9,12], k=5)"
   ]
  },
  {
   "cell_type": "code",
   "execution_count": null,
   "id": "91d2c2a4-3f99-47d9-aa31-42ad71ae2a24",
   "metadata": {},
   "outputs": [],
   "source": [
    "plot_token_distributions(generator.logits_processor, positions=[14, 15], k=5)"
   ]
  },
  {
   "cell_type": "markdown",
   "id": "17c2487a-f510-4313-9c54-c2d5d4779669",
   "metadata": {},
   "source": [
    "# You try!"
   ]
  },
  {
   "cell_type": "code",
   "execution_count": null,
   "id": "a6b81460-cdec-4d1e-bd33-44082a97b1e7",
   "metadata": {},
   "outputs": [],
   "source": [
    "from typing import Literal\n",
    "\n",
    "class EmployedPerson(BaseModel):\n",
    "    name: str\n",
    "    age: int\n",
    "    job: Literal[\n",
    "        'Doctor', \n",
    "        'Basketball Player', \n",
    "        'Welder',\n",
    "        'Dog catcher'\n",
    "    ]\n",
    "\n",
    "gen = track_logits(\n",
    "    outlines.generate.json(\n",
    "        model, \n",
    "        EmployedPerson, \n",
    "        sampler=outlines.samplers.greedy()\n",
    "    )\n",
    ")\n",
    "\n",
    "person = gen(\n",
    "    template(\n",
    "        model, \n",
    "        \"Give me a person with a name, age, and job.\"\n",
    "    )\n",
    ")"
   ]
  },
  {
   "cell_type": "code",
   "execution_count": null,
   "id": "9815c3b5-fabc-4116-802e-fd4244443af0",
   "metadata": {},
   "outputs": [],
   "source": [
    "plot_token_distributions(gen.logits_processor, positions=[20, 21])"
   ]
  },
  {
   "cell_type": "code",
   "execution_count": null,
   "id": "a1212d93-0def-4c50-a308-68bb876e2575",
   "metadata": {},
   "outputs": [],
   "source": []
  },
  {
   "cell_type": "code",
   "execution_count": null,
   "id": "f96c3c5e-afdc-4900-aa8e-c68576794152",
   "metadata": {},
   "outputs": [],
   "source": []
  },
  {
   "cell_type": "code",
   "execution_count": null,
   "id": "99ad09d6-4c13-494e-b784-7c648b6aedf8",
   "metadata": {},
   "outputs": [],
   "source": []
  },
  {
   "cell_type": "code",
   "execution_count": null,
   "id": "cd22f0d1-cdcf-4859-a808-2c18e782798e",
   "metadata": {},
   "outputs": [],
   "source": []
  },
  {
   "cell_type": "code",
   "execution_count": null,
   "id": "ff64956f-d6dd-4138-b350-717d42c78b6b",
   "metadata": {},
   "outputs": [],
   "source": []
  },
  {
   "cell_type": "code",
   "execution_count": null,
   "id": "a28853cf-9a42-44b1-87a1-1ef063248d15",
   "metadata": {},
   "outputs": [],
   "source": []
  }
 ],
 "metadata": {
  "kernelspec": {
   "display_name": "Python 3 (ipykernel)",
   "language": "python",
   "name": "python3"
  },
  "language_info": {
   "codemirror_mode": {
    "name": "ipython",
    "version": 3
   },
   "file_extension": ".py",
   "mimetype": "text/x-python",
   "name": "python",
   "nbconvert_exporter": "python",
   "pygments_lexer": "ipython3",
   "version": "3.10.14"
  }
 },
 "nbformat": 4,
 "nbformat_minor": 5
}
