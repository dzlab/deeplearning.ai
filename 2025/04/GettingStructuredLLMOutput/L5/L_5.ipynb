{
 "cells": [
  {
   "cell_type": "markdown",
   "id": "42eea61c-f636-4329-a489-1ad2bc157350",
   "metadata": {},
   "source": [
    "# L5: Structured Generation: Beyond JSON!\n"
   ]
  },
  {
   "cell_type": "markdown",
   "id": "ef644733-bf1a-4580-8bf8-a9dc0baf066f",
   "metadata": {},
   "source": [
    "<p style=\"background-color:#fff6e4; padding:15px; border-width:3px; border-color:#f5ecda; border-style:solid; border-radius:6px\"> ⏳ <b>Note <code>(Kernel Starting)</code>:</b> This notebook takes about 30 seconds to be ready to use. You may start and watch the video while you wait.</p>"
   ]
  },
  {
   "cell_type": "code",
   "execution_count": null,
   "id": "d0c64b65-bd84-4cf9-84f6-067049d49a14",
   "metadata": {},
   "outputs": [],
   "source": [
    "import warnings\n",
    "warnings.filterwarnings('ignore')"
   ]
  },
  {
   "cell_type": "code",
   "execution_count": null,
   "id": "056c82a5-96d1-4887-b600-bc1a59b0a735",
   "metadata": {},
   "outputs": [],
   "source": [
    "from utils import template\n",
    "import outlines\n",
    "from outlines.samplers import greedy"
   ]
  },
  {
   "cell_type": "markdown",
   "id": "536e1f20-f6d7-40a5-9ef0-6ac4b4126557",
   "metadata": {},
   "source": [
    "<div style=\"background-color:#fff6ff; padding:13px; border-width:3px; border-color:#efe6ef; border-style:solid; border-radius:6px\">\n",
    "<p> 💻 &nbsp; <b>Access <code>requirements.txt</code> and <code>helper.py</code> files:</b> 1) click on the <em>\"File\"</em> option on the top menu of the notebook and then 2) click on <em>\"Open\"</em>.\n",
    "\n",
    "<p> ⬇ &nbsp; <b>Download Notebooks:</b> 1) click on the <em>\"File\"</em> option on the top menu of the notebook and then 2) click on <em>\"Download as\"</em> and select <em>\"Notebook (.ipynb)\"</em>.</p>\n",
    "\n",
    "<p> 📒 &nbsp; For more help, please see the <em>\"Appendix – Tips, Help, and Download\"</em> Lesson.</p>\n",
    "</div>"
   ]
  },
  {
   "cell_type": "code",
   "execution_count": null,
   "id": "fe63e359-de59-4fb8-a7fc-f79dfd69ae6f",
   "metadata": {},
   "outputs": [],
   "source": [
    "model_name = \"HuggingFaceTB/SmolLM2-135M-Instruct\"\n",
    "model = outlines.models.transformers(model_name)"
   ]
  },
  {
   "cell_type": "markdown",
   "id": "d5b0fb63-fbdb-467c-a6fd-16884d01ee45",
   "metadata": {},
   "source": [
    "## Choice"
   ]
  },
  {
   "cell_type": "code",
   "execution_count": null,
   "id": "7f22cc18-a756-4928-9393-188e23f696eb",
   "metadata": {},
   "outputs": [],
   "source": [
    "prompt = template(\"\"\"\n",
    "Look at this restaurant review and classify its sentiment. \n",
    "Respond only with 'positive' or 'negative':\n",
    "\n",
    "Review: The pizza a the was delicious, and the service was excellent.\n",
    "\"\"\")"
   ]
  },
  {
   "cell_type": "code",
   "execution_count": null,
   "id": "f8c027b4-3786-4476-98b6-2735fe96b705",
   "metadata": {},
   "outputs": [],
   "source": [
    "sentiment_regex = r'(positive|negative)'"
   ]
  },
  {
   "cell_type": "code",
   "execution_count": null,
   "id": "7e59fdfc-0093-4463-83fe-520f776340cc",
   "metadata": {},
   "outputs": [],
   "source": [
    "chooser = outlines.generate.choice(\n",
    "    model,\n",
    "    ['positive', 'negative'],\n",
    "    sampler=greedy()\n",
    ")"
   ]
  },
  {
   "cell_type": "code",
   "execution_count": null,
   "id": "e20a8d7f-a655-4b80-b918-ecf99a159edb",
   "metadata": {},
   "outputs": [],
   "source": [
    "chooser(prompt)"
   ]
  },
  {
   "cell_type": "markdown",
   "id": "d7603d47-d4b3-4e56-b12f-00b690363925",
   "metadata": {},
   "source": [
    "## Phone number"
   ]
  },
  {
   "cell_type": "code",
   "execution_count": null,
   "id": "69242c7b-e5a6-4635-b4ef-ba5d07dc32e3",
   "metadata": {},
   "outputs": [],
   "source": [
    "phone_prompt = template(\"\"\"\n",
    "Extract the phone number from the example,\n",
    "please use the format: (XXX) XXX-XXXX\n",
    "\n",
    "206-555-1234\n",
    "\n",
    "\"\"\")"
   ]
  },
  {
   "cell_type": "code",
   "execution_count": null,
   "id": "1476a2b1-a314-4882-b092-fb01532721eb",
   "metadata": {},
   "outputs": [],
   "source": [
    "phone_regex = r'\\([0-9]{3}\\) [0-9]{3}-[0-9]{4}'"
   ]
  },
  {
   "cell_type": "code",
   "execution_count": null,
   "id": "68a4bc13-961e-42cc-b4d4-0a55e021cbc4",
   "metadata": {},
   "outputs": [],
   "source": [
    "phone_generator = outlines.generate.regex(\n",
    "    model, \n",
    "    phone_regex,\n",
    "    sampler=greedy()\n",
    ")"
   ]
  },
  {
   "cell_type": "code",
   "execution_count": null,
   "id": "a51555b6-21ca-46ed-b16e-076a9a89b547",
   "metadata": {},
   "outputs": [],
   "source": [
    "phone_generator(phone_prompt)"
   ]
  },
  {
   "cell_type": "markdown",
   "id": "1f569820-27b2-4b01-b9ff-fc339b66a8bd",
   "metadata": {},
   "source": [
    "## Email Address"
   ]
  },
  {
   "cell_type": "code",
   "execution_count": null,
   "id": "9a770676-4775-4a40-87ed-b5cc6769450b",
   "metadata": {},
   "outputs": [],
   "source": [
    "email_regex = r'[a-zA-Z0-9]{3,10}@[a-z]{4,20}\\.com'"
   ]
  },
  {
   "cell_type": "code",
   "execution_count": null,
   "id": "a23030fb-ef4e-4dff-8a4c-199328afb90c",
   "metadata": {},
   "outputs": [],
   "source": [
    "email_prompt = template(\"Give me an email address for someone at amazon\")"
   ]
  },
  {
   "cell_type": "code",
   "execution_count": null,
   "id": "52ba45b6-ccef-4d48-8cd4-ba9a8cfe17ab",
   "metadata": {},
   "outputs": [],
   "source": [
    "email_generator = outlines.generate.regex(\n",
    "    model,\n",
    "    email_regex,\n",
    "    sampler=greedy())"
   ]
  },
  {
   "cell_type": "code",
   "execution_count": null,
   "id": "116aca14-4164-45fb-b8b0-eb88469d12c7",
   "metadata": {},
   "outputs": [],
   "source": [
    "email_generator(email_prompt)"
   ]
  },
  {
   "cell_type": "markdown",
   "id": "302f4f6c-cb60-4026-8a71-52c7460bbc72",
   "metadata": {},
   "source": [
    "## HTML Image Tag"
   ]
  },
  {
   "cell_type": "code",
   "execution_count": null,
   "id": "c56e777b-6900-40fa-9c9f-9cf5ca47e518",
   "metadata": {},
   "outputs": [],
   "source": [
    "example = '<img src=\"large_dinosaur.png\" alt=\"Image of Large Dinosaur\">'"
   ]
  },
  {
   "cell_type": "code",
   "execution_count": null,
   "id": "3a97bc56-6273-43f9-a3d7-ec87696e29e6",
   "metadata": {},
   "outputs": [],
   "source": [
    "img_tag_regex = r'<img src=\"\\w+\\.(png|jpg|gif)\" alt=\"[\\w ]+\">'"
   ]
  },
  {
   "cell_type": "code",
   "execution_count": null,
   "id": "9b34279c-512d-46d7-bd60-cc8db13afc8b",
   "metadata": {},
   "outputs": [],
   "source": [
    "import re\n",
    "\n",
    "print(re.search(img_tag_regex, example)[0])"
   ]
  },
  {
   "cell_type": "code",
   "execution_count": null,
   "id": "07a41de3-e330-4df2-a7eb-eefc22f7bd20",
   "metadata": {},
   "outputs": [],
   "source": [
    "img_tag_generator = outlines.generate.regex(model, img_tag_regex)"
   ]
  },
  {
   "cell_type": "code",
   "execution_count": null,
   "id": "8709b365-ea94-4f9e-b0d3-7ef4a650684b",
   "metadata": {},
   "outputs": [],
   "source": [
    "img_tag = img_tag_generator(\n",
    "    template(\n",
    "        \"\"\"Generate a basic html image tag for the file 'big_fish.png', \n",
    "        make sure to include an alt tag\"\"\"\n",
    "    ))"
   ]
  },
  {
   "cell_type": "code",
   "execution_count": null,
   "id": "9f61b780-0a4c-4707-8985-b06bb9a60714",
   "metadata": {},
   "outputs": [],
   "source": [
    "print(img_tag)"
   ]
  },
  {
   "cell_type": "code",
   "execution_count": null,
   "id": "50110a56-a0a5-45a6-b82a-b3d76608fbbc",
   "metadata": {},
   "outputs": [],
   "source": [
    "from IPython.display import HTML, display\n",
    "\n",
    "display(HTML(img_tag))"
   ]
  },
  {
   "cell_type": "markdown",
   "id": "bcf0b341-59b9-44fb-9d40-d37170940072",
   "metadata": {},
   "source": [
    "## Tic-Tac-Toe"
   ]
  },
  {
   "cell_type": "code",
   "execution_count": null,
   "id": "d6d900be-7a9b-4c6e-bff9-d68ad79ffba9",
   "metadata": {},
   "outputs": [],
   "source": [
    "ttt_regex = r'[XO ]\\|[XO ]\\|[XO ]\\n-\\+-\\+-\\n[XO ]\\|[XO ]\\|[XO ]\\n-\\+-\\+-\\n[XO ]\\|[XO ]\\|[XO ]'"
   ]
  },
  {
   "cell_type": "code",
   "execution_count": null,
   "id": "241bbe3a-b668-47ff-ace7-42102d82da2e",
   "metadata": {},
   "outputs": [],
   "source": [
    "ttt_generator = outlines.generate.regex(model, ttt_regex, sampler=greedy())"
   ]
  },
  {
   "cell_type": "code",
   "execution_count": null,
   "id": "a04c18ea-faa6-4c22-9f29-1356cfec2637",
   "metadata": {},
   "outputs": [],
   "source": [
    "ttt_out = ttt_generator(\"\"\"\n",
    "We'll be representing an ASCII tic-tac-toe board like this:\n",
    "```\n",
    " | | \n",
    "-+-+-\n",
    " | | \n",
    "-+-+-\n",
    " | | \n",
    "```\n",
    "With X,O or a blank space being valid entries.\n",
    "Here is an example game that is currently in progress:\n",
    "\"\"\"\n",
    ")"
   ]
  },
  {
   "cell_type": "code",
   "execution_count": null,
   "id": "3d2b08d9-6161-4cd4-9fe5-05d7f8ce3a27",
   "metadata": {},
   "outputs": [],
   "source": [
    "print(ttt_out)"
   ]
  },
  {
   "cell_type": "markdown",
   "id": "d6421295-33f1-4acc-920c-dd2b73c83f6d",
   "metadata": {},
   "source": [
    "## CSV"
   ]
  },
  {
   "cell_type": "code",
   "execution_count": null,
   "id": "29522321-1732-4651-ae96-01c502264df7",
   "metadata": {},
   "outputs": [],
   "source": [
    "csv_regex = r'Code,Amount,Cost\\n([A-Z]{3},[1]*[0-9],1]*[0-9]\\.[0-9]{2}\\n){1,3}'"
   ]
  },
  {
   "cell_type": "code",
   "execution_count": null,
   "id": "0ec45989-d1a0-4e13-a3ad-edeffe042b23",
   "metadata": {},
   "outputs": [],
   "source": [
    "csv_generator = outlines.generate.regex(model, csv_regex)"
   ]
  },
  {
   "cell_type": "code",
   "execution_count": null,
   "id": "3b82ae2e-cbe7-4719-997a-964fd50763b9",
   "metadata": {},
   "outputs": [],
   "source": [
    "csv_out = csv_generator(\n",
    "    template(\n",
    "        \"\"\"Create a CSV file for 2-3 store inventory items.\n",
    "           Include a column 'Code', 'Amount', and 'Cost'.\n",
    "        \"\"\")\n",
    ")"
   ]
  },
  {
   "cell_type": "code",
   "execution_count": null,
   "id": "68b6a89b-689f-4881-b3f9-78cfa010df7b",
   "metadata": {},
   "outputs": [],
   "source": [
    "from io import StringIO\n",
    "import pandas as pd\n",
    "pd.read_csv(StringIO(csv_out))"
   ]
  },
  {
   "cell_type": "markdown",
   "id": "f75aae07-b39b-42f3-8ca7-e95e7af7da95",
   "metadata": {},
   "source": [
    "## GSM8K and Making REGEX easier!"
   ]
  },
  {
   "cell_type": "markdown",
   "id": "9d209f97-4a72-499c-86a7-7eb08899bfb3",
   "metadata": {},
   "source": [
    "```\n",
    "Question: Tom has 3 cucumbers, Joes gives him 2 more cucumbers, \n",
    "          how many does Tom have?\n",
    "Reasoning: Tom started with 3 cucumbers, then received 2 more. \n",
    "           This means he has 5 cucumbers.\n",
    "So the answer is: 5\n",
    "```"
   ]
  },
  {
   "cell_type": "code",
   "execution_count": null,
   "id": "a617d033-760e-4edb-a755-f0d86d94cb10",
   "metadata": {},
   "outputs": [],
   "source": [
    "from outlines.types import sentence, digit\n",
    "from outlines.types.dsl import to_regex\n",
    "\n",
    "# Write between 1-3 Sentences\n",
    "reasoning = \"Reasoning: \" + sentence.repeat(1,2)\n",
    "# Answer in 1-4 digits\n",
    "answer = \"So the answer is: \" + digit.repeat(1,4)\n",
    "\n",
    "to_regex(reasoning + \"\\n\" + answer)"
   ]
  },
  {
   "cell_type": "code",
   "execution_count": null,
   "id": "1ea73b67-1141-4285-842e-3372c3177379",
   "metadata": {},
   "outputs": [],
   "source": [
    "gsm8k_generator = outlines.generate.regex(\n",
    "    model, \n",
    "    to_regex(reasoning + \"\\n\" + answer),\n",
    "    sampler=greedy()\n",
    ")"
   ]
  },
  {
   "cell_type": "code",
   "execution_count": null,
   "id": "9efe6459-5b24-45ba-9594-ae3d224f3f4b",
   "metadata": {},
   "outputs": [],
   "source": [
    "question = \"\"\"\n",
    "Sally has 5 apples, then received 2 more, how many apples does Sally have?\n",
    "\"\"\""
   ]
  },
  {
   "cell_type": "code",
   "execution_count": null,
   "id": "bed26c2a-3136-4f98-a23d-8350610d5344",
   "metadata": {},
   "outputs": [],
   "source": [
    "question_prompt = template(f\"\"\"\n",
    "Please answer the question and the end using the following format:\n",
    "Example:\n",
    "Question: Tom has 3 cucumbers, Joes gives him 2 more cucumbers, \n",
    "          how many does Tom have?\n",
    "Reasoning: Tom started with 3 cucumbers, then received 2 more. \n",
    "           This means he has 5 cucumbers.\n",
    "So the answer is: 5\n",
    "\n",
    "Here is the question you need to answer:\n",
    "Question: {question}\n",
    "\"\"\")"
   ]
  },
  {
   "cell_type": "code",
   "execution_count": null,
   "id": "1b0865aa-5731-4c4a-8a56-3b44f32f2cf9",
   "metadata": {},
   "outputs": [],
   "source": [
    "result = gsm8k_generator(question_prompt)\n",
    "\n",
    "print(result)"
   ]
  },
  {
   "cell_type": "markdown",
   "id": "3390f233-8573-4985-b04d-292ab99f1f65",
   "metadata": {},
   "source": [
    "# Build Your Own Hotdog vs. Not a hotdog"
   ]
  },
  {
   "cell_type": "code",
   "execution_count": null,
   "id": "7fa63d6f-1002-4a3c-a4ca-24261bcaa160",
   "metadata": {},
   "outputs": [],
   "source": [
    "from transformers import AutoProcessor\n",
    "from utils import load_and_resize_image, get_messages\n",
    "from transformers import AutoModelForVision2Seq\n",
    "import torch\n",
    "\n",
    "vmodel_name = \"HuggingFaceTB/SmolVLM-256M-Instruct\"\n",
    "model_class = AutoModelForVision2Seq\n",
    "\n",
    "vmodel = outlines.models.transformers_vision(\n",
    "    vmodel_name,\n",
    "    model_class=model_class,\n",
    ")\n",
    "\n",
    "# Used for generating prompt\n",
    "processor = AutoProcessor.from_pretrained(vmodel_name)"
   ]
  },
  {
   "cell_type": "code",
   "execution_count": null,
   "id": "d44f1106-9891-4617-b179-95e7821ef5d0",
   "metadata": {},
   "outputs": [],
   "source": [
    "hotdog_or_not = outlines.generate.text(\n",
    "    vmodel,\n",
    "    sampler=greedy()\n",
    ")"
   ]
  },
  {
   "cell_type": "code",
   "execution_count": null,
   "id": "8fc3f7bf-fb68-4d48-8f15-cc85cc1e2250",
   "metadata": {},
   "outputs": [],
   "source": [
    "base_prompt=\"\"\"\n",
    "You are being given of an image that is either of a\n",
    " hotdog\n",
    "or\n",
    " not a hotdog\n",
    "You must correctly label this. Repond with only \"hotdog\" or \"not a hotdog\"\n",
    "\"\"\""
   ]
  },
  {
   "cell_type": "markdown",
   "id": "f04d7566-b84f-4cc0-8850-f3d62e299995",
   "metadata": {},
   "source": [
    "<p style=\"background-color:#fff6e4; padding:15px; border-width:3px; border-color:#f5ecda; border-style:solid; border-radius:6px\"> ⏳ <b>Note <code>(Note)</code>:</b>The following cell processes multiple images and may take a while to complete.</p>"
   ]
  },
  {
   "cell_type": "code",
   "execution_count": null,
   "id": "92fbe17d-51a0-4069-8316-9f239b5f4390",
   "metadata": {},
   "outputs": [],
   "source": [
    "for i in range(1,6):\n",
    "    image = load_and_resize_image(f\"./hotdog_or_not/{i}.png\")\n",
    "    prompt = processor.apply_chat_template(\n",
    "        get_messages(image,base_prompt=base_prompt), \n",
    "        tokenize=False, \n",
    "        add_generation_prompt=True\n",
    "    )\n",
    "    print(hotdog_or_not(prompt, [image]))\n",
    "    display(image)\n",
    "    print(\"-------\")"
   ]
  },
  {
   "cell_type": "code",
   "execution_count": null,
   "id": "c2e3d83c-678f-43c9-8bf9-936e134c3efe",
   "metadata": {},
   "outputs": [],
   "source": []
  },
  {
   "cell_type": "code",
   "execution_count": null,
   "id": "93aa9cc2-59be-4246-b88e-3abbbea6b1f4",
   "metadata": {},
   "outputs": [],
   "source": []
  },
  {
   "cell_type": "code",
   "execution_count": null,
   "id": "9816cef0-21f8-4255-8df0-0c2d10386cce",
   "metadata": {},
   "outputs": [],
   "source": []
  },
  {
   "cell_type": "code",
   "execution_count": null,
   "id": "3ed33701-16bb-4a0c-83db-f4ab589a66dc",
   "metadata": {},
   "outputs": [],
   "source": []
  },
  {
   "cell_type": "code",
   "execution_count": null,
   "id": "817297f9-be82-496c-8c5a-3c3ea02d500b",
   "metadata": {},
   "outputs": [],
   "source": []
  },
  {
   "cell_type": "code",
   "execution_count": null,
   "id": "90cd3a69-90b9-4e85-b67a-5e19e3cab704",
   "metadata": {},
   "outputs": [],
   "source": []
  }
 ],
 "metadata": {
  "kernelspec": {
   "display_name": "Python 3 (ipykernel)",
   "language": "python",
   "name": "python3"
  },
  "language_info": {
   "codemirror_mode": {
    "name": "ipython",
    "version": 3
   },
   "file_extension": ".py",
   "mimetype": "text/x-python",
   "name": "python",
   "nbconvert_exporter": "python",
   "pygments_lexer": "ipython3",
   "version": "3.10.14"
  }
 },
 "nbformat": 4,
 "nbformat_minor": 5
}
