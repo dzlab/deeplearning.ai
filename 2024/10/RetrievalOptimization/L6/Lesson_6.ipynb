{
 "cells": [
  {
   "cell_type": "markdown",
   "id": "56bb3b2c-faeb-41ec-8499-508a8bc71b76",
   "metadata": {},
   "source": [
    "# L6: Vector Quantization"
   ]
  },
  {
   "cell_type": "markdown",
   "id": "fd70b875-3d98-4668-94ff-f3042f1d2042",
   "metadata": {},
   "source": [
    "<p style=\"background-color:#fff6e4; padding:15px; border-width:3px; border-color:#f5ecda; border-style:solid; border-radius:6px\"> ⏳ <b>Note <code>(Kernel Starting)</code>:</b> This notebook takes about 30 seconds to be ready to use. You may start and watch the video while you wait.</p>"
   ]
  },
  {
   "cell_type": "code",
   "execution_count": null,
   "id": "ab06d353-70fe-4c8f-9e8f-d93238930614",
   "metadata": {},
   "outputs": [],
   "source": [
    "import warnings\n",
    "warnings.filterwarnings('ignore')"
   ]
  },
  {
   "cell_type": "markdown",
   "id": "f8612899-b20d-4256-8e36-98f5d64857ef",
   "metadata": {},
   "source": [
    "<p style=\"background-color:#fff6e4; padding:15px; border-width:3px; border-color:#f5ecda; border-style:solid; border-radius:6px\"> ⏳ <b>Note <code>(Loading the collection)</code>:</b> The following code block might take a few minutes to complete.</p>"
   ]
  },
  {
   "cell_type": "code",
   "execution_count": null,
   "id": "e79d2302-3983-4e72-a6b0-262d63fd57ad",
   "metadata": {},
   "outputs": [],
   "source": [
    "from qdrant_client import QdrantClient, models\n",
    "\n",
    "client = QdrantClient(\"http://localhost:6333\", timeout=600)\n",
    "client.delete_collection(\"wands-products\")\n",
    "client.recover_snapshot(\n",
    "    \"wands-products\", \n",
    "    \"https://storage.googleapis.com/deeplearning-course-c1/snapshots/wands-products.snapshot\",\n",
    ")\n",
    "collection = client.get_collection(\"wands-products\")\n",
    "collection"
   ]
  },
  {
   "cell_type": "markdown",
   "id": "3f250843-df3c-4ffb-abdc-c76047420631",
   "metadata": {},
   "source": [
    "<p style=\"background-color:#fff6ff; padding:15px; border-width:3px; border-color:#efe6ef; border-style:solid; border-radius:6px\"> 💻 &nbsp; <b>Access <code>requirements.txt</code> and <code>helper.py</code> files:</b> 1) click on the <em>\"File\"</em> option on the top menu of the notebook and then 2) click on <em>\"Open\"</em>. For more help, please see the <em>\"Appendix - Tips and Help\"</em> Lesson.</p>"
   ]
  },
  {
   "cell_type": "markdown",
   "id": "c6cbc896-0fe2-4dc9-92b6-10567fd60a61",
   "metadata": {},
   "source": [
    "## Test queries"
   ]
  },
  {
   "cell_type": "code",
   "execution_count": null,
   "id": "8d5379f6-be97-4dcf-98a3-060d88d4d3c6",
   "metadata": {},
   "outputs": [],
   "source": [
    "from sentence_transformers import SentenceTransformer\n",
    "\n",
    "model = SentenceTransformer(\"all-MiniLM-L6-v2\")"
   ]
  },
  {
   "cell_type": "code",
   "execution_count": null,
   "id": "ea4289b9-1761-4dce-8faf-b4be05dab0b2",
   "metadata": {},
   "outputs": [],
   "source": [
    "import pandas as pd\n",
    "\n",
    "queries_df = pd.read_csv(\n",
    "    \"shared_data/WANDS/query.csv\", \n",
    "    sep=\"\\t\", \n",
    "    index_col=\"query_id\",\n",
    ")\n",
    "queries_df[\"query_embedding\"] = model.encode(\n",
    "    queries_df[\"query\"].tolist()\n",
    ").tolist()\n",
    "queries_df.sample(n=5)"
   ]
  },
  {
   "cell_type": "code",
   "execution_count": null,
   "id": "6851df66-ded3-40f2-b252-c680a32921de",
   "metadata": {},
   "outputs": [],
   "source": [
    "from collections import defaultdict\n",
    "from ranx import Qrels\n",
    "\n",
    "knn_qrels_dict = defaultdict(dict)\n",
    "for id, row in queries_df.iterrows():\n",
    "    query_id = f\"query_{id}\"\n",
    "    \n",
    "    results = client.search(\n",
    "        collection_name=\"wands-products\",\n",
    "        query_vector=models.NamedVector(\n",
    "            name=\"product_name\", \n",
    "            vector=row[\"query_embedding\"]\n",
    "        ),\n",
    "        with_vectors=False,\n",
    "        with_payload=False,\n",
    "        limit=50,\n",
    "        search_params=models.SearchParams(\n",
    "            exact=True,  # enable exact search\n",
    "        ),\n",
    "    )\n",
    "    \n",
    "    for point in results:\n",
    "        document_id = f\"doc_{point.id}\"\n",
    "        # The conversion to integer is required because ranx expects integers\n",
    "        knn_qrels_dict[query_id][document_id] = int(point.score * 100)\n",
    "\n",
    "qrels = Qrels(knn_qrels_dict)\n",
    "qrels"
   ]
  },
  {
   "cell_type": "markdown",
   "id": "5324c428-1356-454e-baad-4fa8b821485a",
   "metadata": {},
   "source": [
    "## Product Quantization (PQ)"
   ]
  },
  {
   "cell_type": "code",
   "execution_count": null,
   "id": "74912810-c4ef-4373-86d6-77a095ef01ec",
   "metadata": {},
   "outputs": [],
   "source": [
    "client.update_collection(\n",
    "    \"wands-products\",\n",
    "    quantization_config=models.ProductQuantization(\n",
    "        product=models.ProductQuantizationConfig(\n",
    "            compression=models.CompressionRatio.X64,\n",
    "            always_ram=True,\n",
    "        )    \n",
    "    ),\n",
    ")"
   ]
  },
  {
   "cell_type": "code",
   "execution_count": null,
   "id": "671646d9-3403-4ef7-ae20-72af7fbdad96",
   "metadata": {},
   "outputs": [],
   "source": [
    "import time\n",
    "\n",
    "time.sleep(1.0)\n",
    "collection = client.get_collection(\"wands-products\")\n",
    "while collection.status != models.CollectionStatus.GREEN:\n",
    "    time.sleep(1.0)\n",
    "    collection = client.get_collection(\"wands-products\")\n",
    "    \n",
    "collection"
   ]
  },
  {
   "cell_type": "code",
   "execution_count": null,
   "id": "22aced61-6e22-4ebe-bd35-60509e744aa2",
   "metadata": {},
   "outputs": [],
   "source": [
    "import numpy as np\n",
    "\n",
    "response_times = []\n",
    "pq_run_dict = defaultdict(dict)\n",
    "for id, row in queries_df.iterrows():\n",
    "    query_id = f\"query_{id}\"\n",
    "\n",
    "    # Measure the initial time\n",
    "    start_time = time.monotonic()\n",
    "    \n",
    "    results = client.search(\n",
    "        collection_name=\"wands-products\",\n",
    "        query_vector=models.NamedVector(\n",
    "            name=\"product_name\", \n",
    "            vector=row[\"query_embedding\"]\n",
    "        ),\n",
    "        search_params=models.SearchParams(\n",
    "            quantization=models.QuantizationSearchParams(\n",
    "                rescore=False # Disable re-scoring using the original vectors\n",
    "            )\n",
    "        ),\n",
    "        with_vectors=False,\n",
    "        with_payload=False,\n",
    "        limit=50,\n",
    "    )\n",
    "\n",
    "    # Store the response time in the list\n",
    "    response_times.append(time.monotonic() - start_time)\n",
    "    \n",
    "    for point in results:\n",
    "        document_id = f\"doc_{point.id}\"\n",
    "        pq_run_dict[query_id][document_id] = point.score\n",
    "    \n",
    "np.mean(response_times)"
   ]
  },
  {
   "cell_type": "code",
   "execution_count": null,
   "id": "1e02ebb5-e9e2-4613-948a-655775249ea6",
   "metadata": {},
   "outputs": [],
   "source": [
    "from ranx import Run, evaluate\n",
    "\n",
    "product_name_pq_run = Run(\n",
    "    pq_run_dict, \n",
    "    name=\"product_name_pq\"\n",
    ")\n",
    "evaluate(\n",
    "    qrels=qrels, \n",
    "    run=product_name_pq_run, \n",
    "    metrics=[\"precision@25\"]\n",
    ")"
   ]
  },
  {
   "cell_type": "code",
   "execution_count": null,
   "id": "3657ed96-81a5-409b-9502-9eaf551fe434",
   "metadata": {},
   "outputs": [],
   "source": [
    "response_times = []\n",
    "pq_rescore_run_dict = defaultdict(dict)\n",
    "for id, row in queries_df.iterrows():\n",
    "    query_id = f\"query_{id}\"\n",
    "    \n",
    "    start_time = time.monotonic()\n",
    "    \n",
    "    results = client.search(\n",
    "        collection_name=\"wands-products\",\n",
    "        query_vector=models.NamedVector(\n",
    "            name=\"product_name\", \n",
    "            vector=row[\"query_embedding\"]\n",
    "        ),\n",
    "        search_params=models.SearchParams(\n",
    "            quantization=models.QuantizationSearchParams(\n",
    "                rescore=True # Enable re-scoring using the original vectors\n",
    "            )\n",
    "        ),\n",
    "        with_vectors=False,\n",
    "        with_payload=False,\n",
    "        limit=50,\n",
    "    )\n",
    "    \n",
    "    response_times.append(time.monotonic() - start_time)\n",
    "    \n",
    "    for point in results:\n",
    "        document_id = f\"doc_{point.id}\"\n",
    "        pq_rescore_run_dict[query_id][document_id] = point.score\n",
    "    \n",
    "np.mean(response_times)"
   ]
  },
  {
   "cell_type": "code",
   "execution_count": null,
   "id": "0bbdde63-90d6-493c-8316-96869c366a99",
   "metadata": {},
   "outputs": [],
   "source": [
    "product_name_pq_rescore_run = Run(\n",
    "    pq_rescore_run_dict,\n",
    "    name=\"product_name_pq_rescore\"\n",
    ")\n",
    "evaluate(\n",
    "    qrels=qrels, \n",
    "    run=product_name_pq_rescore_run, \n",
    "    metrics=[\"precision@25\"]\n",
    ")"
   ]
  },
  {
   "cell_type": "markdown",
   "id": "374e9c39-2329-4291-a175-8a3195abd2f7",
   "metadata": {},
   "source": [
    "## Scalar Quantization (SQ)"
   ]
  },
  {
   "cell_type": "code",
   "execution_count": null,
   "id": "29cc85bd-53c6-41b6-8fba-062ba9f82661",
   "metadata": {},
   "outputs": [],
   "source": [
    "client.update_collection(\n",
    "    \"wands-products\",\n",
    "    quantization_config=models.ScalarQuantization(\n",
    "        scalar=models.ScalarQuantizationConfig(\n",
    "            type=models.ScalarType.INT8,\n",
    "            always_ram=True,\n",
    "        )    \n",
    "    ),\n",
    ")"
   ]
  },
  {
   "cell_type": "code",
   "execution_count": null,
   "id": "455e1f41-e3a1-4366-bfac-44e6ac191aba",
   "metadata": {},
   "outputs": [],
   "source": [
    "time.sleep(1.0)\n",
    "collection = client.get_collection(\"wands-products\")\n",
    "while collection.status != models.CollectionStatus.GREEN:\n",
    "    time.sleep(1.0)\n",
    "    collection = client.get_collection(\"wands-products\")\n",
    "    \n",
    "collection"
   ]
  },
  {
   "cell_type": "code",
   "execution_count": null,
   "id": "0bc73f36-ce2c-45d6-b2e6-834e7b7fe24d",
   "metadata": {},
   "outputs": [],
   "source": [
    "response_times = []\n",
    "sq_run_dict = defaultdict(dict)\n",
    "for id, row in queries_df.iterrows():\n",
    "    query_id = f\"query_{id}\"\n",
    "    \n",
    "    start_time = time.monotonic()\n",
    "    \n",
    "    results = client.search(\n",
    "        collection_name=\"wands-products\",\n",
    "        query_vector=models.NamedVector(\n",
    "            name=\"product_name\", \n",
    "            vector=row[\"query_embedding\"]\n",
    "        ),\n",
    "        search_params=models.SearchParams(\n",
    "            quantization=models.QuantizationSearchParams(\n",
    "                rescore=False # Disable re-scoring using the original vectors\n",
    "            )\n",
    "        ),\n",
    "        with_vectors=False,\n",
    "        with_payload=False,\n",
    "        limit=50,\n",
    "    )\n",
    "    \n",
    "    response_times.append(time.monotonic() - start_time)\n",
    "    \n",
    "    for point in results:\n",
    "        document_id = f\"doc_{point.id}\"\n",
    "        sq_run_dict[query_id][document_id] = point.score\n",
    "    \n",
    "np.mean(response_times)"
   ]
  },
  {
   "cell_type": "code",
   "execution_count": null,
   "id": "713df140-9e0e-4ae5-bbde-019e91f403b0",
   "metadata": {},
   "outputs": [],
   "source": [
    "product_name_sq_run = Run(\n",
    "    sq_run_dict, \n",
    "    name=\"product_name_sq\"\n",
    ")\n",
    "evaluate(\n",
    "    qrels=qrels, \n",
    "    run=product_name_sq_run, \n",
    "    metrics=[\"precision@25\"]\n",
    ")"
   ]
  },
  {
   "cell_type": "code",
   "execution_count": null,
   "id": "b6c9f6ec-7612-4fc0-9de5-fe9af772e8b4",
   "metadata": {},
   "outputs": [],
   "source": [
    "response_times = []\n",
    "sq_rescore_run_dict = defaultdict(dict)\n",
    "for id, row in queries_df.iterrows():\n",
    "    query_id = f\"query_{id}\"\n",
    "    \n",
    "    start_time = time.monotonic()\n",
    "    \n",
    "    results = client.search(\n",
    "        collection_name=\"wands-products\",\n",
    "        query_vector=models.NamedVector(\n",
    "            name=\"product_name\", \n",
    "            vector=row[\"query_embedding\"]\n",
    "        ),\n",
    "        search_params=models.SearchParams(\n",
    "            quantization=models.QuantizationSearchParams(\n",
    "                rescore=True # Enable re-scoring using the original vectors\n",
    "            )\n",
    "        ),\n",
    "        with_vectors=False,\n",
    "        with_payload=False,\n",
    "        limit=50,\n",
    "    )\n",
    "    \n",
    "    response_times.append(time.monotonic() - start_time)\n",
    "    \n",
    "    for point in results:\n",
    "        document_id = f\"doc_{point.id}\"\n",
    "        sq_rescore_run_dict[query_id][document_id] = point.score\n",
    "    \n",
    "np.mean(response_times)"
   ]
  },
  {
   "cell_type": "code",
   "execution_count": null,
   "id": "cbb4b03d-a3b8-4456-9615-3e4bf86ed19e",
   "metadata": {},
   "outputs": [],
   "source": [
    "product_name_sq_rescore_run = Run(\n",
    "    sq_rescore_run_dict, \n",
    "    name=\"product_name_sq_rescore\"\n",
    ")\n",
    "evaluate(\n",
    "    qrels=qrels, \n",
    "    run=product_name_sq_rescore_run, \n",
    "    metrics=[\"precision@25\"]\n",
    ")"
   ]
  },
  {
   "cell_type": "markdown",
   "id": "4fc77dee-12ba-4f61-b0fe-91fa73dd76df",
   "metadata": {},
   "source": [
    "## Binary Quantization (BQ)"
   ]
  },
  {
   "cell_type": "code",
   "execution_count": null,
   "id": "594722c8-24b0-496b-9859-943071bc7b78",
   "metadata": {},
   "outputs": [],
   "source": [
    "client.update_collection(\n",
    "    \"wands-products\",\n",
    "    quantization_config=models.BinaryQuantization(\n",
    "        binary=models.BinaryQuantizationConfig(\n",
    "            always_ram=True,\n",
    "        )    \n",
    "    ),\n",
    ")"
   ]
  },
  {
   "cell_type": "code",
   "execution_count": null,
   "id": "0abca87e-db68-498e-b137-d00a77f034b3",
   "metadata": {},
   "outputs": [],
   "source": [
    "time.sleep(1.0)\n",
    "collection = client.get_collection(\"wands-products\")\n",
    "while collection.status != models.CollectionStatus.GREEN:\n",
    "    time.sleep(1.0)\n",
    "    collection = client.get_collection(\"wands-products\")\n",
    "    \n",
    "collection"
   ]
  },
  {
   "cell_type": "code",
   "execution_count": null,
   "id": "ccd22755-1115-4d9a-8ddb-3f3b2128941c",
   "metadata": {},
   "outputs": [],
   "source": [
    "response_times = []\n",
    "bq_run_dict = defaultdict(dict)\n",
    "for id, row in queries_df.iterrows():\n",
    "    query_id = f\"query_{id}\"\n",
    "    \n",
    "    start_time = time.monotonic()\n",
    "    \n",
    "    results = client.search(\n",
    "        collection_name=\"wands-products\",\n",
    "        query_vector=models.NamedVector(\n",
    "            name=\"product_name\", \n",
    "            vector=row[\"query_embedding\"]\n",
    "        ),\n",
    "        search_params=models.SearchParams(\n",
    "            quantization=models.QuantizationSearchParams(\n",
    "                rescore=False # Disable re-scoring using the original vectors\n",
    "            )\n",
    "        ),\n",
    "        with_vectors=False,\n",
    "        with_payload=False,\n",
    "        limit=50,\n",
    "    )\n",
    "    \n",
    "    response_times.append(time.monotonic() - start_time)\n",
    "    \n",
    "    for point in results:\n",
    "        document_id = f\"doc_{point.id}\"\n",
    "        bq_run_dict[query_id][document_id] = point.score\n",
    "    \n",
    "np.mean(response_times)"
   ]
  },
  {
   "cell_type": "code",
   "execution_count": null,
   "id": "3bf5ca5b-3b56-4b17-b647-d91bf0a6b33e",
   "metadata": {},
   "outputs": [],
   "source": [
    "product_name_bq_run = Run(\n",
    "    bq_run_dict, \n",
    "    name=\"product_name_bq\"\n",
    ")\n",
    "evaluate(\n",
    "    qrels=qrels, \n",
    "    run=product_name_bq_run, \n",
    "    metrics=[\"precision@25\"]\n",
    ")"
   ]
  },
  {
   "cell_type": "code",
   "execution_count": null,
   "id": "963521e9-bab7-4021-b21a-4775f38c994b",
   "metadata": {},
   "outputs": [],
   "source": [
    "response_times = []\n",
    "bq_rescore_run_dict = defaultdict(dict)\n",
    "for id, row in queries_df.iterrows():\n",
    "    query_id = f\"query_{id}\"\n",
    "    \n",
    "    start_time = time.monotonic()\n",
    "    \n",
    "    results = client.search(\n",
    "        collection_name=\"wands-products\",\n",
    "        query_vector=models.NamedVector(\n",
    "            name=\"product_name\", \n",
    "            vector=row[\"query_embedding\"]\n",
    "        ),\n",
    "        search_params=models.SearchParams(\n",
    "            quantization=models.QuantizationSearchParams(\n",
    "                rescore=True # Enable re-scoring using the original vectors\n",
    "            )\n",
    "        ),\n",
    "        with_vectors=False,\n",
    "        with_payload=False,\n",
    "        limit=50,\n",
    "    )\n",
    "    \n",
    "    response_times.append(time.monotonic() - start_time)\n",
    "    \n",
    "    for point in results:\n",
    "        document_id = f\"doc_{point.id}\"\n",
    "        bq_rescore_run_dict[query_id][document_id] = point.score\n",
    "    \n",
    "np.mean(response_times)"
   ]
  },
  {
   "cell_type": "code",
   "execution_count": null,
   "id": "7500af15-5de5-498b-b098-6d1554783257",
   "metadata": {},
   "outputs": [],
   "source": [
    "product_name_bq_rescore_run = Run(\n",
    "    bq_rescore_run_dict, \n",
    "    name=\"product_name_bq_rescore\"\n",
    ")\n",
    "evaluate(\n",
    "    qrels=qrels, \n",
    "    run=product_name_bq_rescore_run, \n",
    "    metrics=[\"precision@25\"]\n",
    ")"
   ]
  },
  {
   "cell_type": "code",
   "execution_count": null,
   "id": "720a62bb-7713-4e88-acb1-621e1da38203",
   "metadata": {},
   "outputs": [],
   "source": [
    "from ranx import compare\n",
    "\n",
    "compare(\n",
    "    qrels=qrels,\n",
    "    runs=[\n",
    "        product_name_pq_run, \n",
    "        product_name_pq_rescore_run, \n",
    "        product_name_sq_run, \n",
    "        product_name_sq_rescore_run, \n",
    "        product_name_bq_run, \n",
    "        product_name_bq_rescore_run,\n",
    "    ],\n",
    "    metrics=[\"precision@25\"],\n",
    ")"
   ]
  },
  {
   "cell_type": "code",
   "execution_count": null,
   "id": "e9a3e6cc-4787-4922-a0f9-e98ac5eac5b9",
   "metadata": {},
   "outputs": [],
   "source": []
  },
  {
   "cell_type": "code",
   "execution_count": null,
   "id": "7db97e61-b26b-4628-bebd-94290afe3d45",
   "metadata": {},
   "outputs": [],
   "source": []
  },
  {
   "cell_type": "code",
   "execution_count": null,
   "id": "687670ec-9c81-4305-bb7e-377de2d50afa",
   "metadata": {},
   "outputs": [],
   "source": []
  },
  {
   "cell_type": "code",
   "execution_count": null,
   "id": "b3cfba8a-6d99-4d12-b786-2a0a5fc9f0d4",
   "metadata": {},
   "outputs": [],
   "source": []
  },
  {
   "cell_type": "code",
   "execution_count": null,
   "id": "942a92bc-ff62-40de-8564-9ae78fee93e7",
   "metadata": {},
   "outputs": [],
   "source": []
  },
  {
   "cell_type": "code",
   "execution_count": null,
   "id": "5abef761-87c5-4402-9cd8-092f6a4e1e2a",
   "metadata": {},
   "outputs": [],
   "source": []
  },
  {
   "cell_type": "code",
   "execution_count": null,
   "id": "a0b8b6fc-ccac-4e52-96a7-a3fe610b62c8",
   "metadata": {},
   "outputs": [],
   "source": []
  }
 ],
 "metadata": {
  "kernelspec": {
   "display_name": "Python 3 (ipykernel)",
   "language": "python",
   "name": "python3"
  },
  "language_info": {
   "codemirror_mode": {
    "name": "ipython",
    "version": 3
   },
   "file_extension": ".py",
   "mimetype": "text/x-python",
   "name": "python",
   "nbconvert_exporter": "python",
   "pygments_lexer": "ipython3",
   "version": "3.9.6"
  }
 },
 "nbformat": 4,
 "nbformat_minor": 5
}
