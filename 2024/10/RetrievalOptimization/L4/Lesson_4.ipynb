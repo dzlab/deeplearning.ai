{
 "cells": [
  {
   "cell_type": "markdown",
   "id": "56bb3b2c-faeb-41ec-8499-508a8bc71b76",
   "metadata": {},
   "source": [
    "# L4: Measuring Search Relevance"
   ]
  },
  {
   "cell_type": "markdown",
   "id": "f03ebe39-1826-4b8c-a7ab-13b03abd371b",
   "metadata": {},
   "source": [
    "<p style=\"background-color:#fff6e4; padding:15px; border-width:3px; border-color:#f5ecda; border-style:solid; border-radius:6px\"> ⏳ <b>Note <code>(Kernel Starting)</code>:</b> This notebook takes about 30 seconds to be ready to use. You may start and watch the video while you wait.</p>"
   ]
  },
  {
   "cell_type": "code",
   "execution_count": null,
   "id": "59e0f708-8068-436d-858d-d95254e57273",
   "metadata": {},
   "outputs": [],
   "source": [
    "import warnings\n",
    "warnings.filterwarnings('ignore')"
   ]
  },
  {
   "cell_type": "code",
   "execution_count": null,
   "id": "e79d2302-3983-4e72-a6b0-262d63fd57ad",
   "metadata": {},
   "outputs": [],
   "source": [
    "import pandas as pd\n",
    "\n",
    "products_df = pd.read_csv(\n",
    "    \"shared_data/WANDS/product.csv\", \n",
    "    sep=\"\\t\", \n",
    "    index_col=\"product_id\", \n",
    "    keep_default_na=False,  # some products do not have a description\n",
    ")\n",
    "products_df.head()"
   ]
  },
  {
   "cell_type": "markdown",
   "id": "05d99475-47a5-4e9a-9aff-54e946976fa1",
   "metadata": {},
   "source": [
    "<p style=\"background-color:#fff6ff; padding:15px; border-width:3px; border-color:#efe6ef; border-style:solid; border-radius:6px\"> 💻 &nbsp; <b>Access <code>requirements.txt</code> and <code>helper.py</code> files:</b> 1) click on the <em>\"File\"</em> option on the top menu of the notebook and then 2) click on <em>\"Open\"</em>. For more help, please see the <em>\"Appendix - Tips and Help\"</em> Lesson.</p>"
   ]
  },
  {
   "cell_type": "code",
   "execution_count": null,
   "id": "8d5379f6-be97-4dcf-98a3-060d88d4d3c6",
   "metadata": {},
   "outputs": [],
   "source": [
    "num_products = 5000"
   ]
  },
  {
   "cell_type": "code",
   "execution_count": null,
   "id": "ea4289b9-1761-4dce-8faf-b4be05dab0b2",
   "metadata": {},
   "outputs": [],
   "source": [
    "from sentence_transformers import SentenceTransformer\n",
    "\n",
    "model = SentenceTransformer(\"all-MiniLM-L6-v2\")\n",
    "\n",
    "product_name_embeddings = model.encode(\n",
    "    products_df[\"product_name\"][0:num_products].tolist()\n",
    ")\n",
    "product_name_embeddings.shape"
   ]
  },
  {
   "cell_type": "code",
   "execution_count": null,
   "id": "6851df66-ded3-40f2-b252-c680a32921de",
   "metadata": {},
   "outputs": [],
   "source": [
    "product_description_embeddings = model.encode(\n",
    "    products_df[\"product_description\"][0:num_products].tolist()\n",
    ")\n",
    "product_description_embeddings.shape"
   ]
  },
  {
   "cell_type": "markdown",
   "id": "5772c4de-db5e-448d-8eb1-4641c3b180b8",
   "metadata": {},
   "source": [
    "## Building the collection"
   ]
  },
  {
   "cell_type": "code",
   "execution_count": null,
   "id": "74912810-c4ef-4373-86d6-77a095ef01ec",
   "metadata": {},
   "outputs": [],
   "source": [
    "from qdrant_client import QdrantClient, models\n",
    "\n",
    "client = QdrantClient(\"http://localhost:6333\")\n",
    "client.delete_collection(\"wands-products\")\n",
    "client.create_collection(\n",
    "    collection_name=\"wands-products\",\n",
    "    vectors_config={\n",
    "        \"product_name\": models.VectorParams(\n",
    "            size=384,\n",
    "            distance=models.Distance.COSINE,\n",
    "        ),\n",
    "        \"product_description\": models.VectorParams(\n",
    "            size=384,\n",
    "            distance=models.Distance.COSINE,\n",
    "        ),\n",
    "    },\n",
    "    optimizers_config=models.OptimizersConfigDiff(\n",
    "        default_segment_number=2,\n",
    "        indexing_threshold=1000,\n",
    "    ),\n",
    ")"
   ]
  },
  {
   "cell_type": "code",
   "execution_count": null,
   "id": "671646d9-3403-4ef7-ae20-72af7fbdad96",
   "metadata": {},
   "outputs": [],
   "source": [
    "client.upload_collection(\n",
    "    collection_name=\"wands-products\",\n",
    "    vectors={\n",
    "        \"product_name\": product_name_embeddings,\n",
    "        \"product_description\": product_description_embeddings,\n",
    "    },\n",
    "    payload=products_df.to_dict(orient=\"records\"),\n",
    "    ids=products_df.index.tolist(),\n",
    "    batch_size=64,\n",
    ")"
   ]
  },
  {
   "cell_type": "code",
   "execution_count": null,
   "id": "1e02ebb5-e9e2-4613-948a-655775249ea6",
   "metadata": {},
   "outputs": [],
   "source": [
    "client.count(\"wands-products\")"
   ]
  },
  {
   "cell_type": "code",
   "execution_count": null,
   "id": "3657ed96-81a5-409b-9502-9eaf551fe434",
   "metadata": {},
   "outputs": [],
   "source": [
    "import time\n",
    "\n",
    "time.sleep(1.0)\n",
    "collection = client.get_collection(\"wands-products\")\n",
    "while collection.status != models.CollectionStatus.GREEN:\n",
    "    time.sleep(1.0)\n",
    "    collection = client.get_collection(\"wands-products\")\n",
    "    \n",
    "collection"
   ]
  },
  {
   "cell_type": "markdown",
   "id": "a37e2887-5722-4288-bebf-8b780a22f16e",
   "metadata": {},
   "source": [
    "## Test queries"
   ]
  },
  {
   "cell_type": "code",
   "execution_count": null,
   "id": "daef2453-f14d-4d77-9f33-b9285bd71920",
   "metadata": {},
   "outputs": [],
   "source": [
    "queries_df = pd.read_csv(\n",
    "    \"shared_data/WANDS/query.csv\", \n",
    "    sep=\"\\t\", \n",
    "    index_col=\"query_id\",\n",
    ")\n",
    "queries_df.head()"
   ]
  },
  {
   "cell_type": "markdown",
   "id": "50dc985b-24e4-46a6-a94c-ecee4545249a",
   "metadata": {},
   "source": [
    "## Ground truth"
   ]
  },
  {
   "cell_type": "code",
   "execution_count": null,
   "id": "455e1f41-e3a1-4366-bfac-44e6ac191aba",
   "metadata": {},
   "outputs": [],
   "source": [
    "labels_df = pd.read_csv(\n",
    "    \"shared_data/WANDS/label.csv\", \n",
    "    sep=\"\\t\", \n",
    ")\n",
    "labels_df.sample(n=5)"
   ]
  },
  {
   "cell_type": "code",
   "execution_count": null,
   "id": "0bc73f36-ce2c-45d6-b2e6-834e7b7fe24d",
   "metadata": {},
   "outputs": [],
   "source": [
    "relevancy_scores = {\n",
    "    \"Exact\": 10,\n",
    "    \"Partial\": 5,\n",
    "    \"Irrelevant\": 0,\n",
    "}\n",
    "\n",
    "labels_df[\"score\"] = labels_df[\"label\"].map(relevancy_scores.get)\n",
    "labels_df[\"query_id\"] = labels_df[\"query_id\"].map(lambda x: f\"query_{x}\")\n",
    "labels_df[\"product_id\"] = labels_df[\"product_id\"].map(lambda x: f\"doc_{x}\")\n",
    "labels_df.sample(n=5)"
   ]
  },
  {
   "cell_type": "markdown",
   "id": "0f5c3d1c-9ec0-43c9-a24f-12b646c4ffbc",
   "metadata": {},
   "source": [
    "## ranx"
   ]
  },
  {
   "cell_type": "code",
   "execution_count": null,
   "id": "b6c9f6ec-7612-4fc0-9de5-fe9af772e8b4",
   "metadata": {},
   "outputs": [],
   "source": [
    "from ranx import Qrels\n",
    "\n",
    "qrels = Qrels.from_df(\n",
    "    labels_df.astype({\"query_id\": \"str\", \"product_id\": \"str\"}),\n",
    "    q_id_col=\"query_id\",\n",
    "    doc_id_col=\"product_id\", \n",
    "    score_col=\"score\",\n",
    ")"
   ]
  },
  {
   "cell_type": "markdown",
   "id": "e85e2d9f-68d7-40f6-ae33-2409df8d4888",
   "metadata": {},
   "source": [
    "### Running all the queries"
   ]
  },
  {
   "cell_type": "code",
   "execution_count": null,
   "id": "cbb4b03d-a3b8-4456-9615-3e4bf86ed19e",
   "metadata": {},
   "outputs": [],
   "source": [
    "queries_df[\"query_embedding\"] = model.encode(\n",
    "    queries_df[\"query\"].tolist()\n",
    ").tolist()\n",
    "queries_df.sample(n=5)"
   ]
  },
  {
   "cell_type": "code",
   "execution_count": null,
   "id": "5e99b0fe-8723-4193-aec4-7af50f4d296d",
   "metadata": {},
   "outputs": [],
   "source": [
    "from collections import defaultdict\n",
    "\n",
    "name_run_dict = defaultdict(dict)\n",
    "for id, row in queries_df.iterrows():\n",
    "    query_id = f\"query_{id}\"\n",
    "    \n",
    "    results = client.search(\n",
    "        collection_name=\"wands-products\",\n",
    "        query_vector=models.NamedVector(\n",
    "            name=\"product_name\", \n",
    "            vector=row[\"query_embedding\"]\n",
    "        ),\n",
    "        with_vectors=False,\n",
    "        with_payload=False,\n",
    "        limit=100,\n",
    "    )\n",
    "\n",
    "    for point in results:\n",
    "        document_id = f\"doc_{point.id}\"\n",
    "        name_run_dict[query_id][document_id] = point.score  \n",
    "    \n",
    "name_run_dict"
   ]
  },
  {
   "cell_type": "code",
   "execution_count": null,
   "id": "594722c8-24b0-496b-9859-943071bc7b78",
   "metadata": {},
   "outputs": [],
   "source": [
    "from ranx import Run\n",
    "\n",
    "product_name_run = Run(name_run_dict, name=\"product_name\")"
   ]
  },
  {
   "cell_type": "code",
   "execution_count": null,
   "id": "0abca87e-db68-498e-b137-d00a77f034b3",
   "metadata": {},
   "outputs": [],
   "source": [
    "description_run_dict = defaultdict(dict)\n",
    "for id, row in queries_df.iterrows():\n",
    "    query_id = f\"query_{id}\"\n",
    "    \n",
    "    results = client.search(\n",
    "        collection_name=\"wands-products\",\n",
    "        query_vector=models.NamedVector(\n",
    "            name=\"product_description\", \n",
    "            vector=row[\"query_embedding\"]\n",
    "        ),\n",
    "        with_vectors=False,\n",
    "        with_payload=False,\n",
    "        limit=100,\n",
    "    )\n",
    "\n",
    "    for point in results:\n",
    "        document_id = f\"doc_{point.id}\"\n",
    "        description_run_dict[query_id][document_id] = point.score \n",
    "\n",
    "product_description_run = Run(\n",
    "    description_run_dict, \n",
    "    name=\"product_description\"\n",
    ")"
   ]
  },
  {
   "cell_type": "code",
   "execution_count": null,
   "id": "ccd22755-1115-4d9a-8ddb-3f3b2128941c",
   "metadata": {},
   "outputs": [],
   "source": [
    "from ranx import compare\n",
    "\n",
    "compare(\n",
    "    qrels=qrels,\n",
    "    runs=[\n",
    "        product_name_run, \n",
    "        product_description_run\n",
    "    ],\n",
    "    metrics=[\n",
    "        \"precision@10\", \n",
    "        \"recall@10\", \n",
    "        \"mrr@10\",\n",
    "        \"dcg@10\", \n",
    "        \"ndcg@10\",\n",
    "    ],\n",
    ")"
   ]
  },
  {
   "cell_type": "code",
   "execution_count": null,
   "id": "3bf5ca5b-3b56-4b17-b647-d91bf0a6b33e",
   "metadata": {},
   "outputs": [],
   "source": []
  },
  {
   "cell_type": "code",
   "execution_count": null,
   "id": "963521e9-bab7-4021-b21a-4775f38c994b",
   "metadata": {},
   "outputs": [],
   "source": []
  },
  {
   "cell_type": "code",
   "execution_count": null,
   "id": "7500af15-5de5-498b-b098-6d1554783257",
   "metadata": {},
   "outputs": [],
   "source": []
  },
  {
   "cell_type": "code",
   "execution_count": null,
   "id": "93ffe74e-968f-4b37-ab73-5686c18a8af7",
   "metadata": {},
   "outputs": [],
   "source": []
  },
  {
   "cell_type": "code",
   "execution_count": null,
   "id": "ee843700-b778-4af3-901c-53d420b12f51",
   "metadata": {},
   "outputs": [],
   "source": []
  },
  {
   "cell_type": "code",
   "execution_count": null,
   "id": "720a62bb-7713-4e88-acb1-621e1da38203",
   "metadata": {},
   "outputs": [],
   "source": []
  },
  {
   "cell_type": "code",
   "execution_count": null,
   "id": "a0b8b6fc-ccac-4e52-96a7-a3fe610b62c8",
   "metadata": {},
   "outputs": [],
   "source": []
  }
 ],
 "metadata": {
  "kernelspec": {
   "display_name": "Python 3 (ipykernel)",
   "language": "python",
   "name": "python3"
  },
  "language_info": {
   "codemirror_mode": {
    "name": "ipython",
    "version": 3
   },
   "file_extension": ".py",
   "mimetype": "text/x-python",
   "name": "python",
   "nbconvert_exporter": "python",
   "pygments_lexer": "ipython3",
   "version": "3.9.6"
  }
 },
 "nbformat": 4,
 "nbformat_minor": 5
}
