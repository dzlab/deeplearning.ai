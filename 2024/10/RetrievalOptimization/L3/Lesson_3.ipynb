{
 "cells": [
  {
   "cell_type": "markdown",
   "id": "56bb3b2c-faeb-41ec-8499-508a8bc71b76",
   "metadata": {},
   "source": [
    "# L3: Practical Implications of the Tokenization"
   ]
  },
  {
   "cell_type": "markdown",
   "id": "0950d678-ba32-41fa-a855-2b89f6bb978e",
   "metadata": {},
   "source": [
    "<p style=\"background-color:#fff6e4; padding:15px; border-width:3px; border-color:#f5ecda; border-style:solid; border-radius:6px\"> ⏳ <b>Note <code>(Kernel Starting)</code>:</b> This notebook takes about 30 seconds to be ready to use. You may start and watch the video while you wait.</p>"
   ]
  },
  {
   "cell_type": "code",
   "execution_count": null,
   "id": "ef29925e-de62-4260-b33c-4eabf012c76b",
   "metadata": {},
   "outputs": [],
   "source": [
    "import warnings\n",
    "warnings.filterwarnings('ignore')"
   ]
  },
  {
   "cell_type": "code",
   "execution_count": null,
   "id": "e79d2302-3983-4e72-a6b0-262d63fd57ad",
   "metadata": {},
   "outputs": [],
   "source": [
    "from sentence_transformers import SentenceTransformer, util\n",
    "\n",
    "sbert_model = SentenceTransformer(\"all-MiniLM-L6-v2\")\n",
    "out_vector = sbert_model.encode(\"Vector search optimization\")\n",
    "out_vector.shape"
   ]
  },
  {
   "cell_type": "markdown",
   "id": "3aff5226-a8c9-4858-a4eb-c58c08f43325",
   "metadata": {},
   "source": [
    "<p style=\"background-color:#fff6ff; padding:15px; border-width:3px; border-color:#efe6ef; border-style:solid; border-radius:6px\"> 💻 &nbsp; <b>Access <code>requirements.txt</code> and <code>helper.py</code> files:</b> 1) click on the <em>\"File\"</em> option on the top menu of the notebook and then 2) click on <em>\"Open\"</em>. For more help, please see the <em>\"Appendix - Tips and Help\"</em> Lesson.</p>"
   ]
  },
  {
   "cell_type": "code",
   "execution_count": null,
   "id": "94186f25-cc95-4ae0-8e7f-9aa73f9e0338",
   "metadata": {},
   "outputs": [],
   "source": [
    "sbert_tokenizer = sbert_model.tokenizer._tokenizer\n",
    "sbert_tokenizer"
   ]
  },
  {
   "cell_type": "markdown",
   "id": "ed7eac55-712a-4e43-a7a8-bed4ec8182e5",
   "metadata": {},
   "source": [
    "### Unknown tokens"
   ]
  },
  {
   "cell_type": "code",
   "execution_count": null,
   "id": "ea4289b9-1761-4dce-8faf-b4be05dab0b2",
   "metadata": {},
   "outputs": [],
   "source": [
    "sbert_tokenizer.encode(\"I feel 😊\").tokens"
   ]
  },
  {
   "cell_type": "code",
   "execution_count": null,
   "id": "6851df66-ded3-40f2-b252-c680a32921de",
   "metadata": {},
   "outputs": [],
   "source": [
    "sbert_tokenizer.encode(\"I feel happy\").tokens"
   ]
  },
  {
   "cell_type": "code",
   "execution_count": null,
   "id": "9fd44f86-2aab-46f1-99ec-ea73eac92c7d",
   "metadata": {},
   "outputs": [],
   "source": [
    "sbert_tokenizer.encode(\"I feel 🙁\").tokens"
   ]
  },
  {
   "cell_type": "code",
   "execution_count": null,
   "id": "74912810-c4ef-4373-86d6-77a095ef01ec",
   "metadata": {},
   "outputs": [],
   "source": [
    "sbert_tokenizer.encode(\"I feel sad\").tokens"
   ]
  },
  {
   "cell_type": "markdown",
   "id": "72b21fa9-ed61-48e4-b587-3bb4a20698ca",
   "metadata": {},
   "source": [
    "### Identifiers"
   ]
  },
  {
   "cell_type": "code",
   "execution_count": null,
   "id": "22aced61-6e22-4ebe-bd35-60509e744aa2",
   "metadata": {},
   "outputs": [],
   "source": [
    "sbert_tokenizer.encode(\"Broadcom BCM2712\").tokens"
   ]
  },
  {
   "cell_type": "markdown",
   "id": "61649c2e-7c25-4957-8c99-c4b1463ec095",
   "metadata": {},
   "source": [
    "### Typos"
   ]
  },
  {
   "cell_type": "code",
   "execution_count": null,
   "id": "3657ed96-81a5-409b-9502-9eaf551fe434",
   "metadata": {},
   "outputs": [],
   "source": [
    "sentences = [\n",
    "    \"Great accommodation\",\n",
    "    \"Great acommodation\",\n",
    "]\n",
    "for sentence in sentences:\n",
    "    print(sbert_tokenizer.encode(sentence).tokens)"
   ]
  },
  {
   "cell_type": "markdown",
   "id": "cc164658-b932-4b2e-9105-17e9ff35d26e",
   "metadata": {},
   "source": [
    "### Numerical values and date/time"
   ]
  },
  {
   "cell_type": "code",
   "execution_count": null,
   "id": "daef2453-f14d-4d77-9f33-b9285bd71920",
   "metadata": {},
   "outputs": [],
   "source": [
    "sentences = [\n",
    "    \"This shirt costs $55.\",\n",
    "    \"This shirt costs fifty five dollars.\",\n",
    "    \"This shirt costs $50.\",\n",
    "    \"This shirt costs $559.\",\n",
    "    \"This shirt has a 10% discount from $60.\",\n",
    "]\n",
    "for sentence in sentences:\n",
    "    print(sbert_tokenizer.encode(sentence).tokens)"
   ]
  },
  {
   "cell_type": "code",
   "execution_count": null,
   "id": "29cc85bd-53c6-41b6-8fba-062ba9f82661",
   "metadata": {},
   "outputs": [],
   "source": [
    "sentences = [\n",
    "    \"16th February 2024\",\n",
    "    \"2024-02-16\",\n",
    "    \"17th February 2024\",\n",
    "    \"18th February 2024\",\n",
    "    \"19th February 2024\",\n",
    "    \"20th February 2024\",\n",
    "    \"15th February 2024\",\n",
    "]\n",
    "for sentence in sentences:\n",
    "    print(sbert_tokenizer.encode(sentence).tokens)"
   ]
  },
  {
   "cell_type": "markdown",
   "id": "b01eeb59-f34a-4594-bc09-07eb511e2d2b",
   "metadata": {},
   "source": [
    "## Implications on semantic similarity"
   ]
  },
  {
   "cell_type": "code",
   "execution_count": null,
   "id": "0bc73f36-ce2c-45d6-b2e6-834e7b7fe24d",
   "metadata": {},
   "outputs": [],
   "source": [
    "import plotly.express as px\n",
    "\n",
    "sentences = [\n",
    "    \"I feel 😊\",\n",
    "    \"I feel happy\",\n",
    "    \"I feel 🙁\",\n",
    "    \"I feel sad\",\n",
    "]\n",
    "embeddings = sbert_model.encode(sentences)\n",
    "cosine_scores = util.cos_sim(embeddings, embeddings)\n",
    "\n",
    "px.imshow(\n",
    "    cosine_scores,\n",
    "    x=sentences,\n",
    "    y=sentences,\n",
    "    text_auto=True,\n",
    ")"
   ]
  },
  {
   "cell_type": "markdown",
   "id": "78a21630-7adc-46a4-87dc-8d6296d30d96",
   "metadata": {},
   "source": [
    "### Typos"
   ]
  },
  {
   "cell_type": "code",
   "execution_count": null,
   "id": "87fbd3ce-49e3-455d-8a2d-a7a3bd4658cf",
   "metadata": {},
   "outputs": [],
   "source": [
    "sentences = [\n",
    "    \"Great accommodation\",\n",
    "    \"Great acommodation\",\n",
    "]\n",
    "embeddings = sbert_model.encode(sentences)\n",
    "cosine_scores = util.cos_sim(embeddings, embeddings)\n",
    "px.imshow(\n",
    "    cosine_scores,\n",
    "    x=sentences,\n",
    "    y=sentences,\n",
    "    text_auto=True,\n",
    ")"
   ]
  },
  {
   "cell_type": "markdown",
   "id": "c09c077d-b930-4287-bce6-21e32aba7fc6",
   "metadata": {},
   "source": [
    "### Numerical values and date/time"
   ]
  },
  {
   "cell_type": "code",
   "execution_count": null,
   "id": "594722c8-24b0-496b-9859-943071bc7b78",
   "metadata": {},
   "outputs": [],
   "source": [
    "sentences = [\n",
    "    \"This shirt costs $55.\",\n",
    "    \"This shirt costs fifty five dollars.\",\n",
    "    \"This shirt costs $50.\",\n",
    "    \"This shirt costs $559.\",\n",
    "    \"This shirt has a 10% discount from $60.\",\n",
    "]\n",
    "embeddings = sbert_model.encode(sentences)\n",
    "cosine_scores = util.cos_sim(embeddings, embeddings)\n",
    "fig = px.imshow(\n",
    "    cosine_scores,\n",
    "    x=sentences,\n",
    "    y=sentences,\n",
    "    text_auto=True,\n",
    ")\n",
    "fig.update_xaxes(tickangle=-30)"
   ]
  },
  {
   "cell_type": "code",
   "execution_count": null,
   "id": "0abca87e-db68-498e-b137-d00a77f034b3",
   "metadata": {},
   "outputs": [],
   "source": [
    "sentences = [\n",
    "    \"16th February 2024\",\n",
    "    \"2024-02-16\",\n",
    "    \"17th February 2024\",\n",
    "    \"18th February 2024\",\n",
    "    \"19th February 2024\",\n",
    "    \"20th February 2024\",\n",
    "    \"15th February 2024\",\n",
    "]\n",
    "embeddings = sbert_model.encode(sentences)\n",
    "cosine_scores = util.cos_sim(embeddings, embeddings)\n",
    "fig = px.imshow(\n",
    "    cosine_scores,\n",
    "    x=sentences,\n",
    "    y=sentences,\n",
    "    text_auto=True,\n",
    ")\n",
    "fig.update_layout(\n",
    "    xaxis={\"type\": \"category\"}, \n",
    "    yaxis={\"type\": \"category\"}\n",
    ")\n",
    "fig.update_xaxes(tickangle=-30)"
   ]
  },
  {
   "cell_type": "markdown",
   "id": "d1675805-c925-4c4c-9b0f-4ef490bd05c5",
   "metadata": {},
   "source": [
    "## Impact on different models"
   ]
  },
  {
   "cell_type": "markdown",
   "id": "8ce7b326-092b-457a-97d6-9afa75f5e0c3",
   "metadata": {},
   "source": [
    "### OpenAI"
   ]
  },
  {
   "cell_type": "code",
   "execution_count": null,
   "id": "963521e9-bab7-4021-b21a-4775f38c994b",
   "metadata": {},
   "outputs": [],
   "source": [
    "import tiktoken\n",
    "\n",
    "openai_tokenizer = tiktoken.encoding_for_model(\"text-embedding-3-large\")\n",
    "openai_tokenizer.n_vocab"
   ]
  },
  {
   "cell_type": "code",
   "execution_count": null,
   "id": "7500af15-5de5-498b-b098-6d1554783257",
   "metadata": {},
   "outputs": [],
   "source": [
    "token_ids = openai_tokenizer.encode(\"I feel 😊\")\n",
    "openai_tokenizer.decode_tokens_bytes(token_ids)"
   ]
  },
  {
   "cell_type": "code",
   "execution_count": null,
   "id": "93ffe74e-968f-4b37-ab73-5686c18a8af7",
   "metadata": {},
   "outputs": [],
   "source": [
    "token_ids = openai_tokenizer.encode(\"I feel happy\")\n",
    "openai_tokenizer.decode_tokens_bytes(token_ids)"
   ]
  },
  {
   "cell_type": "code",
   "execution_count": null,
   "id": "ee843700-b778-4af3-901c-53d420b12f51",
   "metadata": {},
   "outputs": [],
   "source": [
    "token_ids = openai_tokenizer.encode(\"Broadcom BCM2712\")\n",
    "openai_tokenizer.decode_tokens_bytes(token_ids)"
   ]
  },
  {
   "cell_type": "code",
   "execution_count": null,
   "id": "720a62bb-7713-4e88-acb1-621e1da38203",
   "metadata": {},
   "outputs": [],
   "source": [
    "sentences = [\n",
    "    \"Great accommodation\",\n",
    "    \"Great acommodation\",\n",
    "]\n",
    "for sentence in sentences:\n",
    "    token_ids = openai_tokenizer.encode(sentence)\n",
    "    print(openai_tokenizer.decode_tokens_bytes(token_ids))"
   ]
  },
  {
   "cell_type": "code",
   "execution_count": null,
   "id": "e9a3e6cc-4787-4922-a0f9-e98ac5eac5b9",
   "metadata": {},
   "outputs": [],
   "source": [
    "sentences = [\n",
    "    \"This shirt costs $55.\",\n",
    "    \"This shirt costs fifty five dollars.\",\n",
    "    \"This shirt costs $50.\",\n",
    "    \"This shirt costs $559.\",\n",
    "    \"This shirt has a 10% discount from $60.\",\n",
    "]\n",
    "for sentence in sentences:\n",
    "    token_ids = openai_tokenizer.encode(sentence)\n",
    "    print(openai_tokenizer.decode_tokens_bytes(token_ids))"
   ]
  },
  {
   "cell_type": "code",
   "execution_count": null,
   "id": "7db97e61-b26b-4628-bebd-94290afe3d45",
   "metadata": {},
   "outputs": [],
   "source": [
    "sentences = [\n",
    "    \"16th February 2024\",\n",
    "    \"2024-02-16\",\n",
    "    \"17th February 2024\",\n",
    "    \"18th February 2024\",\n",
    "    \"19th February 2024\",\n",
    "    \"20th February 2024\",\n",
    "    \"15th February 2024\",\n",
    "]\n",
    "for sentence in sentences:\n",
    "    token_ids = openai_tokenizer.encode(sentence)\n",
    "    print(openai_tokenizer.decode_tokens_bytes(token_ids))"
   ]
  },
  {
   "cell_type": "markdown",
   "id": "d1f00e52-a213-4908-94dc-d7fc2718f7b1",
   "metadata": {},
   "source": [
    "#### Vector similarity"
   ]
  },
  {
   "cell_type": "code",
   "execution_count": null,
   "id": "5abef761-87c5-4402-9cd8-092f6a4e1e2a",
   "metadata": {},
   "outputs": [],
   "source": [
    "from openai import OpenAI\n",
    "from helper import get_openai_api_key\n",
    "\n",
    "openai_client = OpenAI(api_key=get_openai_api_key())"
   ]
  },
  {
   "cell_type": "code",
   "execution_count": null,
   "id": "5c2176dc-6697-4fd0-886d-c56d3a418dbf",
   "metadata": {},
   "outputs": [],
   "source": [
    "sentences = [\n",
    "    \"I feel 😊\",\n",
    "    \"I feel happy\",\n",
    "    \"I feel 🙁\",\n",
    "    \"I feel sad\",\n",
    "]\n",
    "embeddings = [\n",
    "    embedding.embedding\n",
    "    for embedding in openai_client.embeddings.create(\n",
    "        input=sentences, model=\"text-embedding-3-large\"\n",
    "    ).data\n",
    "]\n",
    "cosine_scores = util.cos_sim(embeddings, embeddings)\n",
    "px.imshow(\n",
    "    cosine_scores,\n",
    "    x=sentences,\n",
    "    y=sentences,\n",
    "    text_auto=True,\n",
    ")"
   ]
  },
  {
   "cell_type": "code",
   "execution_count": null,
   "id": "b1546f2d-44d7-40fa-92c7-fe86725003d8",
   "metadata": {},
   "outputs": [],
   "source": [
    "sentences = [\n",
    "    \"Great accommodation\",\n",
    "    \"Great acommodation\",\n",
    "]\n",
    "embeddings = [\n",
    "    embedding.embedding\n",
    "    for embedding in openai_client.embeddings.create(\n",
    "        input=sentences, model=\"text-embedding-3-large\"\n",
    "    ).data\n",
    "]\n",
    "cosine_scores = util.cos_sim(embeddings, embeddings)\n",
    "fig = px.imshow(\n",
    "    cosine_scores,\n",
    "    x=sentences,\n",
    "    y=sentences,\n",
    "    text_auto=True,\n",
    ")\n",
    "fig.update_xaxes(tickangle=-30)"
   ]
  },
  {
   "cell_type": "code",
   "execution_count": null,
   "id": "7b53ea9c-4a41-40bd-b82e-1e2fc2cab2bd",
   "metadata": {},
   "outputs": [],
   "source": [
    "sentences = [\n",
    "    \"This shirt costs $55.\",\n",
    "    \"This shirt costs fifty five dollars.\",\n",
    "    \"This shirt costs $50.\",\n",
    "    \"This shirt costs $559.\",\n",
    "    \"This shirt has a 10% discount from $60.\",\n",
    "]\n",
    "embeddings = [\n",
    "    embedding.embedding\n",
    "    for embedding in openai_client.embeddings.create(\n",
    "        input=sentences, model=\"text-embedding-3-large\"\n",
    "    ).data\n",
    "]\n",
    "cosine_scores = util.cos_sim(embeddings, embeddings)\n",
    "fig = px.imshow(\n",
    "    cosine_scores,\n",
    "    x=sentences,\n",
    "    y=sentences,\n",
    "    text_auto=True,\n",
    ")\n",
    "fig.update_xaxes(tickangle=-30)"
   ]
  },
  {
   "cell_type": "code",
   "execution_count": null,
   "id": "7fc54515-0d5b-4d80-bc21-1dc344c8bae9",
   "metadata": {},
   "outputs": [],
   "source": [
    "sentences = [\n",
    "    \"16th February 2024\",\n",
    "    \"2024-02-16\",\n",
    "    \"17th February 2024\",\n",
    "    \"18th February 2024\",\n",
    "    \"19th February 2024\",\n",
    "    \"20th February 2024\",\n",
    "    \"15th February 2024\",\n",
    "]\n",
    "embeddings = [\n",
    "    embedding.embedding\n",
    "    for embedding in openai_client.embeddings.create(\n",
    "        input=sentences, model=\"text-embedding-3-large\"\n",
    "    ).data\n",
    "]\n",
    "cosine_scores = util.cos_sim(embeddings, embeddings)\n",
    "\n",
    "fig = px.imshow(\n",
    "    cosine_scores,\n",
    "    x=sentences,\n",
    "    y=sentences,\n",
    "    text_auto=True,\n",
    ")\n",
    "fig.update_layout(\n",
    "    xaxis={\"type\": \"category\"}, \n",
    "    yaxis={\"type\": \"category\"}\n",
    ")\n",
    "fig.update_xaxes(tickangle=-30)"
   ]
  },
  {
   "cell_type": "markdown",
   "id": "ef007a64-8a16-40b0-9afb-c6deed4626c3",
   "metadata": {},
   "source": [
    "## Vector search in practice"
   ]
  },
  {
   "cell_type": "code",
   "execution_count": null,
   "id": "246c11a0-4a6d-4d24-b6d6-0b7918ff98ec",
   "metadata": {},
   "outputs": [],
   "source": [
    "from qdrant_client import QdrantClient, models\n",
    "\n",
    "client = QdrantClient(\"http://localhost:6333\")\n",
    "client.get_collections()"
   ]
  },
  {
   "cell_type": "code",
   "execution_count": null,
   "id": "c471f272-94a4-42ac-96ac-08373a8ade4e",
   "metadata": {},
   "outputs": [],
   "source": [
    "examples = [\n",
    "    (\"Sleeveless maxi dress with a V-neckline and wrap front.\"\n",
    "     \"Comes with a tie belt at the waist.\", 29.95),\n",
    "    (\"Slim-fit jeans in washed stretch denim with a button fly \"\n",
    "     \"and tapered legs.\", 39.99),\n",
    "    (\"Double-breasted blazer in textured-weave fabric with peak \"\n",
    "     \"lapels and front flap pockets.\", 59.50),\n",
    "    (\"Lightweight bomber jacket with ribbed cuffs, a baseball collar, \"\n",
    "     \"and zip front closure.\", 45.00),\n",
    "    (\"Chunky knit sweater with dropped shoulders and ribbed trim around \"\n",
    "     \"the neck, cuffs, and hem.\", 25.99),\n",
    "    (\"Tailored trousers in a smooth woven fabric with a concealed \"\n",
    "     \"hook-and-eye closure and welt back pockets.\", 34.99),\n",
    "    (\"Classic trench coat with adjustable belt, storm flap, and button \"\n",
    "     \"front closure.\", 79.90),\n",
    "    (\"High-rise pencil skirt in a stretch fabric with a hidden rear zip \"\n",
    "     \"and back slit.\", 22.99),\n",
    "    (\"Athletic-fit polo shirt in moisture-wicking fabric with a ribbed \"\n",
    "     \"collar and two-button placket.\", 19.95),\n",
    "    (\"Soft flannel pajama set with long sleeves, matching pants, and a \"\n",
    "     \"comfortable elastic waistband.\", 32.00),\n",
    "    (\"Quilted puffer jacket with a detachable hood and zippered side \"\n",
    "     \"pockets.\", 48.99),\n",
    "    (\"Cropped denim jacket with distressed details and button-flap chest \"\n",
    "     \"pockets.\", 36.50),\n",
    "    (\"Fitted bodysuit with a scoop neckline and snap-button closure at \"\n",
    "     \"the bottom.\", 15.99),\n",
    "    (\"Lightly padded parka with a faux fur-lined hood, drawstring waist, \"\n",
    "     \"and snap front pockets.\", 69.95),\n",
    "    (\"Mesh panel sports leggings with a high waist and reflective details \"\n",
    "     \"for nighttime visibility.\", 27.99),\n",
    "    (\"Button-up cardigan in a soft knit with long sleeves and ribbed \"\n",
    "     \"trim.\", 24.50),\n",
    "    (\"Leather moto jacket with zippered cuffs, a notched collar, and \"\n",
    "     \"asymmetrical zip closure.\", 95.00),\n",
    "    (\"Velvet slip dress with a lace trim neckline and adjustable \"\n",
    "     \"spaghetti straps.\", 31.99),\n",
    "    (\"Cargo shorts with multiple pockets and a durable belt loop \"\n",
    "     \"waistband.\", 22.95),\n",
    "    (\"Wide-leg palazzo pants with a high-rise fit and side zip \"\n",
    "     \"closure.\", 38.99),\n",
    "    (\"Graphic print tee featuring an original artwork design and classic \"\n",
    "     \"crew neck.\", 14.99),\n",
    "    (\"Boho-style maxi skirt with an elastic waistband and tiered ruffle \"\n",
    "     \"detailing.\", 33.50),\n",
    "    (\"Men's linen shirt with a Mandarin collar and buttoned chest \"\n",
    "     \"pocket.\", 29.95),\n",
    "    (\"Cable knit beanie with a fold-over cuff and soft fleece \"\n",
    "     \"lining.\", 12.99),\n",
    "    (\"Sequin cocktail dress with a plunging V-neck and bodycon \"\n",
    "     \"fit.\", 49.99),\n",
    "]"
   ]
  },
  {
   "cell_type": "code",
   "execution_count": null,
   "id": "6477abfc-aa18-4651-8a51-1067e5859e95",
   "metadata": {},
   "outputs": [],
   "source": [
    "client.delete_collection(\"clothes\")\n",
    "client.create_collection(\n",
    "    \"clothes\",\n",
    "    vectors_config=models.VectorParams(\n",
    "        size=384,\n",
    "        distance=models.Distance.COSINE,\n",
    "    )\n",
    ")"
   ]
  },
  {
   "cell_type": "code",
   "execution_count": null,
   "id": "e5fdf6b8-ecb3-4072-9911-112a25b6a639",
   "metadata": {},
   "outputs": [],
   "source": [
    "import uuid\n",
    "\n",
    "client.upsert(\n",
    "    \"clothes\",\n",
    "    points=[\n",
    "        models.PointStruct(\n",
    "            id=uuid.uuid4().hex,\n",
    "            vector=sbert_model.encode(description),\n",
    "            payload={\"description\": description, \"price\": price},\n",
    "        )\n",
    "        for description, price in examples\n",
    "    ]\n",
    ")"
   ]
  },
  {
   "cell_type": "code",
   "execution_count": null,
   "id": "cce2e2fd-15e6-4c61-a9bb-e9e782f39026",
   "metadata": {},
   "outputs": [],
   "source": [
    "client.search(\n",
    "    \"clothes\",\n",
    "    query_vector=sbert_model.encode(\"for cold weather\"),\n",
    "    with_payload=True,\n",
    "    limit=3,\n",
    ")"
   ]
  },
  {
   "cell_type": "markdown",
   "id": "ab80c4bc-348b-41b9-83ab-b99efb9c481c",
   "metadata": {},
   "source": [
    "### Vector search with additional constraints"
   ]
  },
  {
   "cell_type": "code",
   "execution_count": null,
   "id": "a4b93357-789a-4842-a444-61deae408b59",
   "metadata": {},
   "outputs": [],
   "source": [
    "client.search(\n",
    "    \"clothes\",\n",
    "    query_vector=sbert_model.encode(\"for cold weather under $40\"),\n",
    "    with_payload=True,\n",
    "    limit=3,\n",
    ")"
   ]
  },
  {
   "cell_type": "code",
   "execution_count": null,
   "id": "2ddbe554-1272-4d0d-9b1e-e804ab3df6ac",
   "metadata": {},
   "outputs": [],
   "source": [
    "client.create_payload_index(\n",
    "    \"clothes\",\n",
    "    field_name=\"price\",\n",
    "    field_schema=models.PayloadSchemaType.FLOAT,\n",
    ")"
   ]
  },
  {
   "cell_type": "code",
   "execution_count": null,
   "id": "a3d66830-1f78-4764-b953-6d66890cf4c3",
   "metadata": {},
   "outputs": [],
   "source": [
    "client.search(\n",
    "    \"clothes\",\n",
    "    query_vector=sbert_model.encode(\"for cold weather\"),\n",
    "    with_payload=True,\n",
    "    limit=3,\n",
    "    query_filter=models.Filter(\n",
    "        must=[\n",
    "            models.FieldCondition(\n",
    "                key=\"price\",\n",
    "                range=models.Range(\n",
    "                    lte=40.0,\n",
    "                )\n",
    "            )\n",
    "        ]\n",
    "    )\n",
    ")"
   ]
  },
  {
   "cell_type": "code",
   "execution_count": null,
   "id": "54fa31ea-d84c-4c9b-a47f-bae51fd87c4a",
   "metadata": {},
   "outputs": [],
   "source": []
  },
  {
   "cell_type": "code",
   "execution_count": null,
   "id": "7b4c7879-46a0-426a-b349-744353e533c4",
   "metadata": {},
   "outputs": [],
   "source": []
  },
  {
   "cell_type": "code",
   "execution_count": null,
   "id": "1e1306b2-6448-4ed0-b61e-ce45e1dc6bd6",
   "metadata": {},
   "outputs": [],
   "source": []
  },
  {
   "cell_type": "code",
   "execution_count": null,
   "id": "011ac079-41b8-4fa1-9bf4-92173b700b06",
   "metadata": {},
   "outputs": [],
   "source": []
  },
  {
   "cell_type": "code",
   "execution_count": null,
   "id": "d7927f8c-72b1-4f64-bad4-49174d4215ba",
   "metadata": {},
   "outputs": [],
   "source": []
  },
  {
   "cell_type": "code",
   "execution_count": null,
   "id": "778920d5-a087-446d-8660-3d74dbfefbb9",
   "metadata": {},
   "outputs": [],
   "source": []
  },
  {
   "cell_type": "code",
   "execution_count": null,
   "id": "5c190eab-7939-4677-b953-b901d89acc2d",
   "metadata": {},
   "outputs": [],
   "source": []
  },
  {
   "cell_type": "code",
   "execution_count": null,
   "id": "a422c4ee-2192-4da9-ba4b-86ffa207d88c",
   "metadata": {},
   "outputs": [],
   "source": []
  }
 ],
 "metadata": {
  "kernelspec": {
   "display_name": "Python 3 (ipykernel)",
   "language": "python",
   "name": "python3"
  },
  "language_info": {
   "codemirror_mode": {
    "name": "ipython",
    "version": 3
   },
   "file_extension": ".py",
   "mimetype": "text/x-python",
   "name": "python",
   "nbconvert_exporter": "python",
   "pygments_lexer": "ipython3",
   "version": "3.9.6"
  }
 },
 "nbformat": 4,
 "nbformat_minor": 5
}
