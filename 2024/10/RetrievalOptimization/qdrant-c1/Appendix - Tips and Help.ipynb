{
 "cells": [
  {
   "cell_type": "markdown",
   "id": "2b874e72-56f8-4b8d-bfe2-abfb6e86d5bf",
   "metadata": {},
   "source": [
    "## 💻 &nbsp; Accessing Utils File and Helper Functions\n",
    "In each notebook on the top menu:\n",
    "\n",
    "**1:** &nbsp; Click on <em>\"File\"</em>\n",
    "\n",
    "**2:** &nbsp; Then, click on <em>\"Open\"</em>\n",
    "\n",
    "You will be able to see all the notebook files for the lesson, including any helper functions used in the notebook on the left sidebar. See the following image for the steps above.\n",
    "\n",
    "<img width=\"450px\" src=\"images/upload-file2.png\" style=\"border-width:3px; border-color:#f5ecda; border-style:solid; border-radius:6px\">\n",
    "\n",
    "<hr style=\"height: 3px; background-color:#f0f0f0; border: none;\">\n"
   ]
  },
  {
   "cell_type": "markdown",
   "id": "1f14a078-d24d-4e05-a6d7-c7dee3dae521",
   "metadata": {},
   "source": [
    "## 📗 &nbsp; See Your Progress\n",
    "Once you enroll in this course—or any other short course on the DeepLearning.AI platform—and open it, you can click on 'My Learning' at the top left corner of the desktop view. There, you will be able to see all the short courses you have enrolled in and your progress in each one.\n",
    "\n",
    "<img width=\"700px\" src=\"images/progress-upper.png\" style=\"border-width:3px; border-color:#f5ecda; border-style:solid; border-radius:6px\"></img>\n",
    "\n",
    "Additionally, your progress in each short course is displayed at the bottom-left corner of the learning page for each course (desktop view).\n",
    "\n",
    "<img width=\"700px\" src=\"images/progress-bottom.png\" style=\"border-width:3px; border-color:#f5ecda; border-style:solid; border-radius:6px\"></img>\n",
    "\n",
    "<hr style=\"height: 3px; background-color:#f0f0f0; border: none;\">\n"
   ]
  },
  {
   "cell_type": "markdown",
   "id": "80b59e0e-4069-4be4-862e-813a0ac7df06",
   "metadata": {},
   "source": [
    "## 📱 &nbsp; Features to Use\n",
    "\n",
    "**🎞 &nbsp; Adjust Video Speed:** Click on the gear icon (⚙) on the video and then from the <em>Speed</em> option, choose your desired video speed.\n",
    "\n",
    "**🗣️ &nbsp; Captions (English and Spanish):** Click on the gear icon (⚙) on the video and then from the <em>Captions</em> option, choose to see the captions either in English or Spanish.\n",
    "\n",
    "**🔅 &nbsp; Video Quality:** If you do not have access to high-speed internet, click on the gear icon (⚙) on the video and then from <em>Quality</em>, choose the quality that works the best for your Internet speed.\n",
    "\n",
    "<img width=\"350px\" src=\"images/options.png\" style=\"border-width:3px; border-color:#f5ecda; border-style:solid; border-radius:6px\"></img>\n",
    "\n",
    "**🖥 &nbsp; Picture in Picture (PiP):** This feature allows you to continue watching the video when you switch to another browser tab or window. Click on the small rectangle shape on the video to go to <em>PiP</em> mode.\n",
    "\n",
    "**✔ &nbsp; Hide and Unhide Lesson Navigation Menu:** If you do not have a large screen, you may click on the small hamburger icon beside the title of the course to hide the left-side navigation menu. You can then unhide it by clicking on the same icon again.\n",
    "\n",
    "<hr style=\"height: 3px; background-color:#f0f0f0; border: none;\">\n"
   ]
  },
  {
   "cell_type": "markdown",
   "id": "44c402fb-ff01-4859-9d61-a3a8104a9d2f",
   "metadata": {},
   "source": [
    "## 🧑‍🎓 &nbsp; Efficient Learning Tips\n",
    "The following tips can help you have an efficient learning experience with this short course and other courses.\n",
    "\n",
    "**🧑‍🏫 &nbsp; Create a Dedicated Study Space:** Establish a quiet, organized workspace free from distractions. A dedicated learning environment can significantly improve concentration and overall learning efficiency.\n",
    "\n",
    "**📅 &nbsp; Develop a Consistent Learning Schedule:**\n",
    "Consistency is key to learning. Set out specific times in your day for study and make it a routine. Consistent study times help build a habit and improve information retention.\n",
    "\n",
    "**Tip:** Set a recurring event and reminder in your calendar, with clear action items, to get regular notifications about your study plans and goals.\n",
    "\n",
    "**☕ &nbsp; Take Regular Breaks:**\n",
    "Include short breaks in your study sessions. The Pomodoro Technique, which involves studying for 25 minutes followed by a 5-minute break, can be particularly effective.\n",
    "\n",
    "**💬 &nbsp; Engage with the Community:**\n",
    "Participate in forums, discussions, and group activities. Engaging with peers can provide additional insights, create a sense of community, and make learning more enjoyable.\n",
    "\n",
    "**✍ &nbsp; Practice Active Learning:**\n",
    "Don't just read or run notebooks or watch the material. Engage actively by taking notes, summarizing what you learn, teaching the concept to someone else, or applying the knowledge in your practical projects.\n",
    "\n",
    "<hr style=\"height: 3px; background-color:#f0f0f0; border: none;\">\n"
   ]
  },
  {
   "cell_type": "markdown",
   "id": "a3d94f60-5c77-47ff-8515-e8d5646254d2",
   "metadata": {},
   "source": [
    "## 📚 &nbsp; Enroll in Other Short Courses\n",
    "Keep learning by enrolling in other short courses. We add new short courses regularly. Visit DeepLearning.AI Short Courses page to see our latest courses and begin learning new topics. 👇\n",
    "\n",
    "<b><a href=\"https://www.deeplearning.ai/courses/?utm_source=dlai-learn-platform&utm_medium=referral-sc&utm_campaign=appendix-tips-help\">👉👉 🔗 DeepLearning.AI – All Short Courses [+]</a></b>\n",
    "\n",
    "<hr style=\"height: 3px; background-color:#f0f0f0; border: none;\">\n"
   ]
  },
  {
   "cell_type": "markdown",
   "id": "1b673725-c6cd-4812-974f-0c7d195828eb",
   "metadata": {},
   "source": [
    "## 🙂 &nbsp; Let Us Know What You Think\n",
    "Your feedback helps us know what you liked and didn't like about the course. We read all your feedback and use them to improve this course and future courses. Please submit your feedback by clicking on <em>\"Course Feedback\"</em> option at the bottom of the lessons list menu (desktop view).\n",
    "\n",
    "<img width=\"700px\" src=\"images/feedback.png\" style=\"border-width:3px; border-color:#f5ecda; border-style:solid; border-radius:6px\"></img>\n",
    "\n",
    "Also, you are more than welcome to join our community <a href=\"https://community.deeplearning.ai/\">👉👉 🔗 DeepLearning.AI Forum</a>\n",
    "\n",
    "<hr style=\"height: 3px; background-color:#f0f0f0; border: none;\">\n"
   ]
  }
 ],
 "metadata": {
  "kernelspec": {
   "display_name": "Python 3 (ipykernel)",
   "language": "python",
   "name": "python3"
  },
  "language_info": {
   "codemirror_mode": {
    "name": "ipython",
    "version": 3
   },
   "file_extension": ".py",
   "mimetype": "text/x-python",
   "name": "python",
   "nbconvert_exporter": "python",
   "pygments_lexer": "ipython3",
   "version": "3.9.6"
  }
 },
 "nbformat": 4,
 "nbformat_minor": 5
}
